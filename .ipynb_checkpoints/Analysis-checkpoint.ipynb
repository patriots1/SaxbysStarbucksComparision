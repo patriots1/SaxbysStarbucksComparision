{
 "cells": [
  {
   "cell_type": "code",
   "execution_count": 176,
   "id": "f4ccb0f4-ac73-45df-a04f-f3cdba4635cf",
   "metadata": {},
   "outputs": [],
   "source": [
    "import pandas as pd\n",
    "import json"
   ]
  },
  {
   "cell_type": "code",
   "execution_count": 195,
   "id": "a4f68eb8-65c1-448d-8927-d4dd81015590",
   "metadata": {},
   "outputs": [],
   "source": [
    "# import data from cleaned json file\n",
    "file = open('cleaned_input_file.json')"
   ]
  },
  {
   "cell_type": "code",
   "execution_count": 196,
   "id": "9e6fd7f4-341b-49fb-a9ac-3dbb802efe40",
   "metadata": {},
   "outputs": [],
   "source": [
    "# convert the input file to a dictionary\n",
    "data_dc = json.load(file)"
   ]
  },
  {
   "cell_type": "code",
   "execution_count": 197,
   "id": "61a02475-576b-4595-bb63-ff8da4e861ce",
   "metadata": {},
   "outputs": [],
   "source": [
    "# convert the dictionary to a panda dataframe\n",
    "data_df = pd.DataFrame(data_dc)"
   ]
  },
  {
   "cell_type": "code",
   "execution_count": 198,
   "id": "53654028-1fc5-48b4-b4ae-0c1d57ca2d05",
   "metadata": {},
   "outputs": [
    {
     "data": {
      "text/html": [
       "<div>\n",
       "<style scoped>\n",
       "    .dataframe tbody tr th:only-of-type {\n",
       "        vertical-align: middle;\n",
       "    }\n",
       "\n",
       "    .dataframe tbody tr th {\n",
       "        vertical-align: top;\n",
       "    }\n",
       "\n",
       "    .dataframe thead th {\n",
       "        text-align: right;\n",
       "    }\n",
       "</style>\n",
       "<table border=\"1\" class=\"dataframe\">\n",
       "  <thead>\n",
       "    <tr style=\"text-align: right;\">\n",
       "      <th></th>\n",
       "      <th>shop_name</th>\n",
       "      <th>location</th>\n",
       "      <th>dish_name</th>\n",
       "      <th>dish_description</th>\n",
       "      <th>dish_image_link</th>\n",
       "      <th>dish_price</th>\n",
       "      <th>dish_category</th>\n",
       "    </tr>\n",
       "  </thead>\n",
       "  <tbody>\n",
       "    <tr>\n",
       "      <th>0</th>\n",
       "      <td>Starbucks</td>\n",
       "      <td>[42.3399145, -71.0887372]</td>\n",
       "      <td>Caffe Americano</td>\n",
       "      <td>Espresso shots topped with hot water create a ...</td>\n",
       "      <td>https://media-cdn.grubhub.com/image/upload/w_1...</td>\n",
       "      <td>345</td>\n",
       "      <td>Hot Coffees</td>\n",
       "    </tr>\n",
       "    <tr>\n",
       "      <th>1</th>\n",
       "      <td>Starbucks</td>\n",
       "      <td>[42.3399145, -71.0887372]</td>\n",
       "      <td>Caffe Misto</td>\n",
       "      <td>A 1-to-1 combination of fresh-brewed coffee an...</td>\n",
       "      <td>https://media-cdn.grubhub.com/image/upload/w_1...</td>\n",
       "      <td>425</td>\n",
       "      <td>Hot Coffees</td>\n",
       "    </tr>\n",
       "    <tr>\n",
       "      <th>2</th>\n",
       "      <td>Starbucks</td>\n",
       "      <td>[42.3399145, -71.0887372]</td>\n",
       "      <td>Blonde Roast Coffee</td>\n",
       "      <td>Lightly roasted coffee that's soft, mellow and...</td>\n",
       "      <td>https://media-cdn.grubhub.com/image/upload/w_1...</td>\n",
       "      <td>345</td>\n",
       "      <td>Hot Coffees</td>\n",
       "    </tr>\n",
       "    <tr>\n",
       "      <th>3</th>\n",
       "      <td>Starbucks</td>\n",
       "      <td>[42.3399145, -71.0887372]</td>\n",
       "      <td>Featured Starbucks Dark Roast Coffee</td>\n",
       "      <td>This full-bodied dark roast coffee with bold, ...</td>\n",
       "      <td>https://media-cdn.grubhub.com/image/upload/w_1...</td>\n",
       "      <td>345</td>\n",
       "      <td>Hot Coffees</td>\n",
       "    </tr>\n",
       "    <tr>\n",
       "      <th>4</th>\n",
       "      <td>Starbucks</td>\n",
       "      <td>[42.3399145, -71.0887372]</td>\n",
       "      <td>Pike Place Roast Coffee</td>\n",
       "      <td>From our first store in Seattle's Pike Place M...</td>\n",
       "      <td>https://media-cdn.grubhub.com/image/upload/w_1...</td>\n",
       "      <td>345</td>\n",
       "      <td>Hot Coffees</td>\n",
       "    </tr>\n",
       "  </tbody>\n",
       "</table>\n",
       "</div>"
      ],
      "text/plain": [
       "   shop_name                   location                             dish_name  \\\n",
       "0  Starbucks  [42.3399145, -71.0887372]                       Caffe Americano   \n",
       "1  Starbucks  [42.3399145, -71.0887372]                           Caffe Misto   \n",
       "2  Starbucks  [42.3399145, -71.0887372]                   Blonde Roast Coffee   \n",
       "3  Starbucks  [42.3399145, -71.0887372]  Featured Starbucks Dark Roast Coffee   \n",
       "4  Starbucks  [42.3399145, -71.0887372]               Pike Place Roast Coffee   \n",
       "\n",
       "                                    dish_description  \\\n",
       "0  Espresso shots topped with hot water create a ...   \n",
       "1  A 1-to-1 combination of fresh-brewed coffee an...   \n",
       "2  Lightly roasted coffee that's soft, mellow and...   \n",
       "3  This full-bodied dark roast coffee with bold, ...   \n",
       "4  From our first store in Seattle's Pike Place M...   \n",
       "\n",
       "                                     dish_image_link dish_price dish_category  \n",
       "0  https://media-cdn.grubhub.com/image/upload/w_1...        345   Hot Coffees  \n",
       "1  https://media-cdn.grubhub.com/image/upload/w_1...        425   Hot Coffees  \n",
       "2  https://media-cdn.grubhub.com/image/upload/w_1...        345   Hot Coffees  \n",
       "3  https://media-cdn.grubhub.com/image/upload/w_1...        345   Hot Coffees  \n",
       "4  https://media-cdn.grubhub.com/image/upload/w_1...        345   Hot Coffees  "
      ]
     },
     "execution_count": 198,
     "metadata": {},
     "output_type": "execute_result"
    }
   ],
   "source": [
    "data_df.head()"
   ]
  },
  {
   "cell_type": "code",
   "execution_count": 201,
   "id": "f7fa4a14-b0fe-4b15-9b9c-fe9e244d148e",
   "metadata": {},
   "outputs": [
    {
     "name": "stdout",
     "output_type": "stream",
     "text": [
      "shop_name           0\n",
      "location            0\n",
      "dish_name           0\n",
      "dish_description    0\n",
      "dish_image_link     0\n",
      "dish_price          1\n",
      "dish_category       0\n",
      "dtype: int64\n"
     ]
    }
   ],
   "source": [
    "# check for null values in the dataframe\n",
    "print(data_df.isnull().sum())"
   ]
  },
  {
   "cell_type": "code",
   "execution_count": 205,
   "id": "8766cbb2-8e93-44c0-84c4-6b5def80ec33",
   "metadata": {},
   "outputs": [
    {
     "data": {
      "text/html": [
       "<div>\n",
       "<style scoped>\n",
       "    .dataframe tbody tr th:only-of-type {\n",
       "        vertical-align: middle;\n",
       "    }\n",
       "\n",
       "    .dataframe tbody tr th {\n",
       "        vertical-align: top;\n",
       "    }\n",
       "\n",
       "    .dataframe thead th {\n",
       "        text-align: right;\n",
       "    }\n",
       "</style>\n",
       "<table border=\"1\" class=\"dataframe\">\n",
       "  <thead>\n",
       "    <tr style=\"text-align: right;\">\n",
       "      <th></th>\n",
       "      <th>shop_name</th>\n",
       "      <th>location</th>\n",
       "      <th>dish_name</th>\n",
       "      <th>dish_description</th>\n",
       "      <th>dish_image_link</th>\n",
       "      <th>dish_price</th>\n",
       "      <th>dish_category</th>\n",
       "    </tr>\n",
       "  </thead>\n",
       "  <tbody>\n",
       "    <tr>\n",
       "      <th>103</th>\n",
       "      <td>Starbucks</td>\n",
       "      <td>[42.3399145, -71.0887372]</td>\n",
       "      <td>Water</td>\n",
       "      <td>The essential refresher.</td>\n",
       "      <td>https://media-cdn.grubhub.com/image/upload/w_1...</td>\n",
       "      <td>None</td>\n",
       "      <td>Cold Drinks</td>\n",
       "    </tr>\n",
       "  </tbody>\n",
       "</table>\n",
       "</div>"
      ],
      "text/plain": [
       "     shop_name                   location dish_name          dish_description  \\\n",
       "103  Starbucks  [42.3399145, -71.0887372]     Water  The essential refresher.   \n",
       "\n",
       "                                       dish_image_link dish_price  \\\n",
       "103  https://media-cdn.grubhub.com/image/upload/w_1...       None   \n",
       "\n",
       "    dish_category  \n",
       "103   Cold Drinks  "
      ]
     },
     "execution_count": 205,
     "metadata": {},
     "output_type": "execute_result"
    }
   ],
   "source": [
    "# find the null price (just for fun)\n",
    "data_df[data_df.isnull().any(axis=1)]"
   ]
  },
  {
   "cell_type": "code",
   "execution_count": 187,
   "id": "040bf6f0-82ff-45b0-aad6-e36a794d9c36",
   "metadata": {},
   "outputs": [
    {
     "data": {
      "text/html": [
       "<div>\n",
       "<style scoped>\n",
       "    .dataframe tbody tr th:only-of-type {\n",
       "        vertical-align: middle;\n",
       "    }\n",
       "\n",
       "    .dataframe tbody tr th {\n",
       "        vertical-align: top;\n",
       "    }\n",
       "\n",
       "    .dataframe thead th {\n",
       "        text-align: right;\n",
       "    }\n",
       "</style>\n",
       "<table border=\"1\" class=\"dataframe\">\n",
       "  <thead>\n",
       "    <tr style=\"text-align: right;\">\n",
       "      <th></th>\n",
       "      <th>shop_name</th>\n",
       "      <th>location</th>\n",
       "      <th>dish_name</th>\n",
       "      <th>dish_description</th>\n",
       "      <th>dish_image_link</th>\n",
       "      <th>dish_price</th>\n",
       "      <th>dish_category</th>\n",
       "    </tr>\n",
       "  </thead>\n",
       "  <tbody>\n",
       "    <tr>\n",
       "      <th>count</th>\n",
       "      <td>261</td>\n",
       "      <td>261</td>\n",
       "      <td>261</td>\n",
       "      <td>261</td>\n",
       "      <td>261</td>\n",
       "      <td>261</td>\n",
       "      <td>261</td>\n",
       "    </tr>\n",
       "    <tr>\n",
       "      <th>unique</th>\n",
       "      <td>2</td>\n",
       "      <td>2</td>\n",
       "      <td>241</td>\n",
       "      <td>245</td>\n",
       "      <td>247</td>\n",
       "      <td>67</td>\n",
       "      <td>25</td>\n",
       "    </tr>\n",
       "    <tr>\n",
       "      <th>top</th>\n",
       "      <td>Starbucks</td>\n",
       "      <td>[42.3399145, -71.0887372]</td>\n",
       "      <td>Avocado Spread</td>\n",
       "      <td>Spruce up your sandwich or sous vide egg bites...</td>\n",
       "      <td>https://media-cdn.grubhub.com/image/upload/w_1...</td>\n",
       "      <td>495</td>\n",
       "      <td>Cold Drinks</td>\n",
       "    </tr>\n",
       "    <tr>\n",
       "      <th>freq</th>\n",
       "      <td>166</td>\n",
       "      <td>166</td>\n",
       "      <td>4</td>\n",
       "      <td>4</td>\n",
       "      <td>4</td>\n",
       "      <td>24</td>\n",
       "      <td>27</td>\n",
       "    </tr>\n",
       "  </tbody>\n",
       "</table>\n",
       "</div>"
      ],
      "text/plain": [
       "        shop_name                   location       dish_name  \\\n",
       "count         261                        261             261   \n",
       "unique          2                          2             241   \n",
       "top     Starbucks  [42.3399145, -71.0887372]  Avocado Spread   \n",
       "freq          166                        166               4   \n",
       "\n",
       "                                         dish_description  \\\n",
       "count                                                 261   \n",
       "unique                                                245   \n",
       "top     Spruce up your sandwich or sous vide egg bites...   \n",
       "freq                                                    4   \n",
       "\n",
       "                                          dish_image_link  dish_price  \\\n",
       "count                                                 261         261   \n",
       "unique                                                247          67   \n",
       "top     https://media-cdn.grubhub.com/image/upload/w_1...         495   \n",
       "freq                                                    4          24   \n",
       "\n",
       "       dish_category  \n",
       "count            261  \n",
       "unique            25  \n",
       "top      Cold Drinks  \n",
       "freq              27  "
      ]
     },
     "execution_count": 187,
     "metadata": {},
     "output_type": "execute_result"
    }
   ],
   "source": [
    "# there is one row with no price data, so drop it\n",
    "df_clean = data_df.dropna(subset=['dish_price'])\n",
    "df_clean.describe()"
   ]
  },
  {
   "cell_type": "code",
   "execution_count": 167,
   "id": "5eee1461-42b7-4678-812b-ae74b68b8e58",
   "metadata": {},
   "outputs": [],
   "source": [
    "with open('cleaned_input_file.json', 'w') as w:\n",
    "    json.dump(output, w, indent = 4)"
   ]
  }
 ],
 "metadata": {
  "kernelspec": {
   "display_name": "Python 3 (ipykernel)",
   "language": "python",
   "name": "python3"
  },
  "language_info": {
   "codemirror_mode": {
    "name": "ipython",
    "version": 3
   },
   "file_extension": ".py",
   "mimetype": "text/x-python",
   "name": "python",
   "nbconvert_exporter": "python",
   "pygments_lexer": "ipython3",
   "version": "3.12.2"
  }
 },
 "nbformat": 4,
 "nbformat_minor": 5
}
