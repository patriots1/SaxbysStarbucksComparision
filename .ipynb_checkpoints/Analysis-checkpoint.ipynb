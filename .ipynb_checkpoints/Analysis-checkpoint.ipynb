{
 "cells": [
  {
   "cell_type": "code",
   "execution_count": 1,
   "id": "f4ccb0f4-ac73-45df-a04f-f3cdba4635cf",
   "metadata": {},
   "outputs": [],
   "source": [
    "import pandas as pd\n",
    "import json\n",
    "from json import encoder\n",
    "from sklearn.preprocessing import LabelEncoder\n",
    "from sklearn.preprocessing import StandardScaler\n",
    "from sklearn.cluster import KMeans\n",
    "import matplotlib.pyplot as plt"
   ]
  },
  {
   "cell_type": "code",
   "execution_count": 2,
   "id": "a4f68eb8-65c1-448d-8927-d4dd81015590",
   "metadata": {},
   "outputs": [],
   "source": [
    "# import data from cleaned json file\n",
    "file = open('cleaned_input_file1.json')"
   ]
  },
  {
   "cell_type": "code",
   "execution_count": 3,
   "id": "9e6fd7f4-341b-49fb-a9ac-3dbb802efe40",
   "metadata": {},
   "outputs": [
    {
     "data": {
      "text/plain": [
       "list"
      ]
     },
     "execution_count": 3,
     "metadata": {},
     "output_type": "execute_result"
    }
   ],
   "source": [
    "# convert the input file to a dictionary\n",
    "data_ls = json.load(file)\n",
    "type(data_ls)"
   ]
  },
  {
   "cell_type": "code",
   "execution_count": 4,
   "id": "41064b20-0e5b-4fee-8a36-fd9dc46aead1",
   "metadata": {},
   "outputs": [
    {
     "data": {
      "text/plain": [
       "{'shop_name': 'Starbucks',\n",
       " 'location': ['42.3399145', '-71.0887372'],\n",
       " 'dish_name': 'Caffe Americano',\n",
       " 'dish_description': 'Espresso shots topped with hot water create a light layer of crema culminating in this wonderfully rich cup with depth and nuance. Pro tip: For an additional boost, ask to try this with an extra shot.',\n",
       " 'dish_image_link': 'https://media-cdn.grubhub.com/image/upload/w_1.46,h_1,c_lpad/tapingo-shops-assets/media/images/941/bcd/a4f817112069a2a985978813eeef447702',\n",
       " 'dish_price': 3.45,\n",
       " 'dish_category': 'Hot Coffees'}"
      ]
     },
     "execution_count": 4,
     "metadata": {},
     "output_type": "execute_result"
    }
   ],
   "source": [
    "data_ls[0]"
   ]
  },
  {
   "cell_type": "code",
   "execution_count": 69,
   "id": "61a02475-576b-4595-bb63-ff8da4e861ce",
   "metadata": {},
   "outputs": [],
   "source": [
    "# convert the dictionary to a panda dataframe\n",
    "data_df = pd.DataFrame(data_ls)\n",
    "data_clean = data_df.loc[data_df['dish_category'] != \"The Saxby's Hall of Greats\", :  ]\n",
    "data_df = data_clean"
   ]
  },
  {
   "cell_type": "code",
   "execution_count": 70,
   "id": "53654028-1fc5-48b4-b4ae-0c1d57ca2d05",
   "metadata": {},
   "outputs": [],
   "source": [
    "dish_category_series = data_df.loc[:, ['shop_name', 'dish_category']]\n",
    "dish_category_series_starbucks = dish_category_series.loc[dish_category_series['shop_name'] == 'Starbucks', :  ]\n",
    "dish_category_series_saxbys = dish_category_series.loc[dish_category_series['shop_name'] == 'Saxby', :  ]\n",
    "starbucks_dc = dish_category_series_starbucks.to_dict()\n",
    "saxbys_dc = dish_category_series_saxbys.to_dict()"
   ]
  },
  {
   "cell_type": "code",
   "execution_count": 71,
   "id": "72ab9c19-c10a-4941-9ce7-08b1f160300a",
   "metadata": {},
   "outputs": [
    {
     "name": "stdout",
     "output_type": "stream",
     "text": [
      "Starbucks: ['Hot Coffees', 'Hot Teas', 'Hot Drinks', 'Frappuccino Blended Beverages', 'Cold Coffees', 'Cold Drinks', 'Iced Teas', 'Hot Breakfast', 'Oatmeal & Yogurt', 'Bakery', 'Lunch', 'Snacks & Sweets'] \n",
      "\n",
      "Saxby: ['Energy', 'Cold Brew Collection', 'Hot Coffee', 'Espresso Drinks', 'Teas & Steamers', 'Meet Your Matcha', 'Smoothies', 'Breakfast All Day', 'Grilled Cheese', 'Bakery', 'Grab & Go Food', 'Grab & Go Drinks', 'Coffee For Home'] \n",
      "\n"
     ]
    }
   ],
   "source": [
    "# check the different dish categories (combine both coffee shops's dish categories into one)\n",
    "starbucks_categories_ls = []\n",
    "saxbys_categories_ls = []\n",
    "\n",
    "starbucks_dc.pop('shop_name', None)\n",
    "saxbys_dc.pop('shop_name', None)\n",
    "\n",
    "starbucks_unique_ls = []\n",
    "saxby_unique_ls = []\n",
    "\n",
    "for key in starbucks_dc['dish_category']:\n",
    "    if starbucks_dc['dish_category'][key] not in starbucks_unique_ls:\n",
    "        starbucks_unique_ls.append(starbucks_dc['dish_category'][key])\n",
    "\n",
    "for key in saxbys_dc['dish_category']:\n",
    "    if saxbys_dc['dish_category'][key] not in saxby_unique_ls:\n",
    "        saxby_unique_ls.append(saxbys_dc['dish_category'][key])\n",
    "\n",
    "# print the current dish categories for both places\n",
    "print(f'Starbucks: {starbucks_unique_ls} \\n')\n",
    "print(f'Saxby: {saxby_unique_ls} \\n')"
   ]
  },
  {
   "cell_type": "code",
   "execution_count": 128,
   "id": "72ec8c24-b307-4c71-b9c2-6c50d870f223",
   "metadata": {},
   "outputs": [
    {
     "name": "stdout",
     "output_type": "stream",
     "text": [
      "Peach Rush Energy Drink: ['Energy', 'Teas & Steamers']\n",
      "\n",
      "OG Rush Energy Drink: ['Energy', 'Teas & Steamers']\n",
      "\n",
      "Strawberry Rush Energy Drink: ['Energy', 'Teas & Steamers']\n",
      "\n",
      "Matcha Latte: ['Teas & Steamers', 'Meet Your Matcha']\n",
      "\n",
      "Iced Matcha Latte: ['Teas & Steamers', 'Meet Your Matcha']\n",
      "\n",
      "Breakfast Grilled Three Cheese: ['Breakfast All Day', 'Grilled Cheese']\n",
      "\n",
      "Energy (3, 7)\n",
      "Matcha (2, 7)\n",
      "Breakfast (6, 7)\n",
      "Grilled Cheese (7, 7)\n"
     ]
    }
   ],
   "source": [
    "# checking to see whether saxby's dish categories have some repeat dishes, isolate them to see what dishes they are.\n",
    "\n",
    "dish_category_series_saxbys = data_df.loc[dish_category_series['shop_name'] == 'Saxby', : ]\n",
    "dish_category_series_saxbys_clean = dish_category_series_saxbys.loc[ :, ['dish_category', 'dish_name']]\n",
    "dict = dish_category_series_saxbys_clean.to_dict()\n",
    "\n",
    "repeats_in_saxby_items = []\n",
    "for key in dict['dish_name']:\n",
    "    if dict['dish_name'][key] not in repeats_in_saxby_items:\n",
    "        repeats_in_saxby_items.append({\n",
    "            'dish_category': dict['dish_category'][key],\n",
    "            'dish_name': dict['dish_name'][key],\n",
    "        })\n",
    "\n",
    "cleaned_repeats_saxby = {}\n",
    "\n",
    "for index in repeats_in_saxby_items:\n",
    "    if index['dish_name'] not in cleaned_repeats_saxby:\n",
    "        cleaned_repeats_saxby[index['dish_name']] = [index['dish_category']]\n",
    "    else:\n",
    "        cleaned_repeats_saxby[index['dish_name']].append(index['dish_category'])\n",
    "\n",
    "final_cleaned_saxby = {}\n",
    "\n",
    "for key in cleaned_repeats_saxby:\n",
    "    if len(cleaned_repeats_saxby[key]) != 1:\n",
    "        final_cleaned_saxby[key] = cleaned_repeats_saxby[key]\n",
    "\n",
    "for key, value in final_cleaned_saxby.items():\n",
    "    print(f'{key}: {value}')\n",
    "    print()\n",
    "\n",
    "test_df = data_df.loc[data_df['dish_category'] == 'Energy' ,:]\n",
    "shape_energy = test_df.shape\n",
    "print(f'Energy {shape_energy}')\n",
    "\n",
    "test_df = data_df.loc[data_df['dish_category'] == 'Meet Your Matcha' ,:]\n",
    "shape_matcha = test_df.shape\n",
    "print(f'Matcha {shape_matcha}')\n",
    "\n",
    "test_df = data_df.loc[data_df['dish_category'] == 'Breakfast All Day' ,:]\n",
    "shape_bkfast = test_df.shape\n",
    "print(f'Breakfast {shape_bkfast}')\n",
    "\n",
    "test_df = data_df.loc[data_df['dish_category'] == 'Grilled Cheese' ,:]\n",
    "shape_gc = test_df.shape\n",
    "print(f'Grilled Cheese {shape_gc}')\n",
    "\n",
    "# Conclusion - 'Energy' and 'Meet Your Matcha' are redundant, can remove these categories.\n",
    "# Breakfast Grilled Three Cheese - will keep in 'Grilled Cheese', as will remove from breakfast"
   ]
  },
  {
   "cell_type": "code",
   "execution_count": 131,
   "id": "93a8b931-af71-4bb4-90e1-7424814f3215",
   "metadata": {},
   "outputs": [
    {
     "name": "stdout",
     "output_type": "stream",
     "text": [
      "Avocado Spread: ['Hot Breakfast', 'Bakery', 'Lunch', 'Snacks & Sweets']\n",
      "\n",
      "Hot Breakfast (12, 7)\n",
      "Bakery (25, 7)\n",
      "Lunch (9, 7)\n",
      "Snacks & Sweets (5, 7)\n"
     ]
    }
   ],
   "source": [
    "# checking to see whether starbuck's dish categories have some repeat dishes, isolate them to see what dishes they are.\n",
    "\n",
    "dish_category_series_starbucks = data_df.loc[dish_category_series['shop_name'] == 'Starbucks', : ]\n",
    "dish_category_series_starbucks_clean = dish_category_series_starbucks.loc[ :, ['dish_category', 'dish_name']]\n",
    "dict = dish_category_series_starbucks_clean.to_dict()\n",
    "\n",
    "repeats_in_starbucks_items = []\n",
    "for key in dict['dish_name']:\n",
    "    if dict['dish_name'][key] not in repeats_in_starbucks_items:\n",
    "        repeats_in_starbucks_items.append({\n",
    "            'dish_category': dict['dish_category'][key],\n",
    "            'dish_name': dict['dish_name'][key],\n",
    "        })\n",
    "\n",
    "cleaned_repeats_starbucks = {}\n",
    "\n",
    "for index in repeats_in_starbucks_items:\n",
    "    if index['dish_name'] not in cleaned_repeats_starbucks:\n",
    "        cleaned_repeats_starbucks[index['dish_name']] = [index['dish_category']]\n",
    "    else:\n",
    "        cleaned_repeats_starbucks[index['dish_name']].append(index['dish_category'])\n",
    "\n",
    "final_cleaned_starbucks = {}\n",
    "\n",
    "for key in cleaned_repeats_starbucks:\n",
    "    if len(cleaned_repeats_starbucks[key]) != 1:\n",
    "        final_cleaned_starbucks[key] = cleaned_repeats_starbucks[key]\n",
    "\n",
    "for key, value in final_cleaned_starbucks.items():\n",
    "    print(f'{key}: {value}')\n",
    "    print()\n",
    "\n",
    "test_df = data_df.loc[data_df['dish_category'] == \"Hot Breakfast\" ,:]\n",
    "shape_energy = test_df.shape\n",
    "print(f'Hot Breakfast {shape_energy}')\n",
    "\n",
    "test_df = data_df.loc[data_df['dish_category'] == 'Bakery' ,:]\n",
    "shape_matcha = test_df.shape\n",
    "print(f'Bakery {shape_matcha}')\n",
    "\n",
    "test_df = data_df.loc[data_df['dish_category'] == 'Lunch' ,:]\n",
    "shape_bkfast = test_df.shape\n",
    "print(f'Lunch {shape_bkfast}')\n",
    "\n",
    "test_df = data_df.loc[data_df['dish_category'] == 'Snacks & Sweets' ,:]\n",
    "shape_gc = test_df.shape\n",
    "print(f'Snacks & Sweets {shape_gc}')\n",
    "\n",
    "# Conclusion - only one repeat item, Avacado Spread\n",
    "# Avacado Spread - keep it for 'Lunch' only, remove from all other places. "
   ]
  },
  {
   "cell_type": "code",
   "execution_count": 158,
   "id": "bc5d34dc-9b62-448f-83a8-332d2c3c7d50",
   "metadata": {},
   "outputs": [
    {
     "name": "stdout",
     "output_type": "stream",
     "text": [
      "{'shop_name': 'Saxby', 'location': ['42.3371199', '-71.0871734'], 'dish_name': 'Breakfast Grilled Three Cheese', 'dish_description': \"Slay the day with this cheesy on the eyes & seriously melty Grilled Cheese for BREAKFAST! Featuring cheddar and American cheeses, scrambled eggs & garlic herb cheese spread on crispy wheatberry toast. Add bacon or turkey sausage if you'd like below!\", 'dish_image_link': 'https://media-cdn.grubhub.com/image/upload/w_1.46,h_1,c_lpad/tapingo-shops-assets/media/images/5f8/540/6c22c0da252a25c3364f549fdf0d2bea71', 'dish_price': 6.49, 'dish_category': 'Grilled Cheese'}\n"
     ]
    }
   ],
   "source": [
    "#change DataFrame\n",
    "#take care of Saxby's products\n",
    "data_clean = data_df.loc[\n",
    "    (data_df['dish_category'] != 'Energy') & \n",
    "    (data_df['dish_category'] != 'Meet Your Matcha') &\n",
    "    data_df['dish_name'] != 'Breakfast Grilled Three Cheese']\n",
    "\n",
    "breakfast_dc = data_df.loc[data_df['dish_name'] == 'Breakfast Grilled Three Cheese'].T[231]\n",
    "data_clean.T[231] = \n",
    "# dummy = data_clean.loc[data_df['dish_name'] == 'Breakfast Grilled Three Cheese']\n",
    "# dummy.head()"
   ]
  },
  {
   "cell_type": "code",
   "execution_count": 7,
   "id": "f7fa4a14-b0fe-4b15-9b9c-fe9e244d148e",
   "metadata": {},
   "outputs": [
    {
     "name": "stdout",
     "output_type": "stream",
     "text": [
      "shop_name           0\n",
      "location            0\n",
      "dish_name           0\n",
      "dish_description    0\n",
      "dish_image_link     0\n",
      "dish_price          0\n",
      "dish_category       0\n",
      "dtype: int64\n"
     ]
    }
   ],
   "source": [
    "# check for null values in the dataframe\n",
    "# note - there were null prices, but were removed from json file inadvently (was fixing format of prices).\n",
    "print(data_df.isnull().sum())"
   ]
  },
  {
   "cell_type": "code",
   "execution_count": 8,
   "id": "c34c206d-af21-41c3-8fde-75bc9209fd33",
   "metadata": {},
   "outputs": [],
   "source": [
    "# consequence of the messup :(\n",
    "df_clean = data_df"
   ]
  },
  {
   "cell_type": "code",
   "execution_count": 9,
   "id": "5eee1461-42b7-4678-812b-ae74b68b8e58",
   "metadata": {},
   "outputs": [],
   "source": [
    "# Convert dish_category to numerical values using LabelEncoder\n",
    "# For K mean clustering, need numerical representation of catagorical data, hence adding this. \n",
    "le = LabelEncoder()\n",
    "df_clean.loc[:, 'dish_category_encoded'] = le.fit_transform(df_clean['dish_category'])"
   ]
  },
  {
   "cell_type": "code",
   "execution_count": 11,
   "id": "3fe2bf0a-e172-4d8c-96d4-77df227d0237",
   "metadata": {},
   "outputs": [],
   "source": [
    "# Normalizing (shrinking the range) of prices to allow for better k mean clustering.\n",
    "scaler = StandardScaler()\n",
    "df_clean['price_normalized'] = scaler.fit_transform(df_clean[['dish_price']])"
   ]
  },
  {
   "cell_type": "code",
   "execution_count": 12,
   "id": "f3194340-dc87-426a-b1a1-11545f88bab5",
   "metadata": {},
   "outputs": [
    {
     "data": {
      "text/html": [
       "<div>\n",
       "<style scoped>\n",
       "    .dataframe tbody tr th:only-of-type {\n",
       "        vertical-align: middle;\n",
       "    }\n",
       "\n",
       "    .dataframe tbody tr th {\n",
       "        vertical-align: top;\n",
       "    }\n",
       "\n",
       "    .dataframe thead th {\n",
       "        text-align: right;\n",
       "    }\n",
       "</style>\n",
       "<table border=\"1\" class=\"dataframe\">\n",
       "  <thead>\n",
       "    <tr style=\"text-align: right;\">\n",
       "      <th></th>\n",
       "      <th>shop_name</th>\n",
       "      <th>location</th>\n",
       "      <th>dish_name</th>\n",
       "      <th>dish_description</th>\n",
       "      <th>dish_image_link</th>\n",
       "      <th>dish_price</th>\n",
       "      <th>dish_category</th>\n",
       "      <th>dish_category_encoded</th>\n",
       "      <th>shop_name_mapped</th>\n",
       "      <th>price_normalized</th>\n",
       "    </tr>\n",
       "  </thead>\n",
       "  <tbody>\n",
       "    <tr>\n",
       "      <th>0</th>\n",
       "      <td>Starbucks</td>\n",
       "      <td>[42.3399145, -71.0887372]</td>\n",
       "      <td>Caffe Americano</td>\n",
       "      <td>Espresso shots topped with hot water create a ...</td>\n",
       "      <td>https://media-cdn.grubhub.com/image/upload/w_1...</td>\n",
       "      <td>3.45</td>\n",
       "      <td>Hot Coffees</td>\n",
       "      <td>14</td>\n",
       "      <td>0</td>\n",
       "      <td>-0.491406</td>\n",
       "    </tr>\n",
       "    <tr>\n",
       "      <th>1</th>\n",
       "      <td>Starbucks</td>\n",
       "      <td>[42.3399145, -71.0887372]</td>\n",
       "      <td>Caffe Misto</td>\n",
       "      <td>A 1-to-1 combination of fresh-brewed coffee an...</td>\n",
       "      <td>https://media-cdn.grubhub.com/image/upload/w_1...</td>\n",
       "      <td>4.25</td>\n",
       "      <td>Hot Coffees</td>\n",
       "      <td>14</td>\n",
       "      <td>0</td>\n",
       "      <td>-0.024619</td>\n",
       "    </tr>\n",
       "    <tr>\n",
       "      <th>2</th>\n",
       "      <td>Starbucks</td>\n",
       "      <td>[42.3399145, -71.0887372]</td>\n",
       "      <td>Blonde Roast Coffee</td>\n",
       "      <td>Lightly roasted coffee that's soft, mellow and...</td>\n",
       "      <td>https://media-cdn.grubhub.com/image/upload/w_1...</td>\n",
       "      <td>3.45</td>\n",
       "      <td>Hot Coffees</td>\n",
       "      <td>14</td>\n",
       "      <td>0</td>\n",
       "      <td>-0.491406</td>\n",
       "    </tr>\n",
       "    <tr>\n",
       "      <th>3</th>\n",
       "      <td>Starbucks</td>\n",
       "      <td>[42.3399145, -71.0887372]</td>\n",
       "      <td>Featured Starbucks Dark Roast Coffee</td>\n",
       "      <td>This full-bodied dark roast coffee with bold, ...</td>\n",
       "      <td>https://media-cdn.grubhub.com/image/upload/w_1...</td>\n",
       "      <td>3.45</td>\n",
       "      <td>Hot Coffees</td>\n",
       "      <td>14</td>\n",
       "      <td>0</td>\n",
       "      <td>-0.491406</td>\n",
       "    </tr>\n",
       "    <tr>\n",
       "      <th>4</th>\n",
       "      <td>Starbucks</td>\n",
       "      <td>[42.3399145, -71.0887372]</td>\n",
       "      <td>Pike Place Roast Coffee</td>\n",
       "      <td>From our first store in Seattle's Pike Place M...</td>\n",
       "      <td>https://media-cdn.grubhub.com/image/upload/w_1...</td>\n",
       "      <td>3.45</td>\n",
       "      <td>Hot Coffees</td>\n",
       "      <td>14</td>\n",
       "      <td>0</td>\n",
       "      <td>-0.491406</td>\n",
       "    </tr>\n",
       "  </tbody>\n",
       "</table>\n",
       "</div>"
      ],
      "text/plain": [
       "   shop_name                   location                             dish_name  \\\n",
       "0  Starbucks  [42.3399145, -71.0887372]                       Caffe Americano   \n",
       "1  Starbucks  [42.3399145, -71.0887372]                           Caffe Misto   \n",
       "2  Starbucks  [42.3399145, -71.0887372]                   Blonde Roast Coffee   \n",
       "3  Starbucks  [42.3399145, -71.0887372]  Featured Starbucks Dark Roast Coffee   \n",
       "4  Starbucks  [42.3399145, -71.0887372]               Pike Place Roast Coffee   \n",
       "\n",
       "                                    dish_description  \\\n",
       "0  Espresso shots topped with hot water create a ...   \n",
       "1  A 1-to-1 combination of fresh-brewed coffee an...   \n",
       "2  Lightly roasted coffee that's soft, mellow and...   \n",
       "3  This full-bodied dark roast coffee with bold, ...   \n",
       "4  From our first store in Seattle's Pike Place M...   \n",
       "\n",
       "                                     dish_image_link  dish_price  \\\n",
       "0  https://media-cdn.grubhub.com/image/upload/w_1...        3.45   \n",
       "1  https://media-cdn.grubhub.com/image/upload/w_1...        4.25   \n",
       "2  https://media-cdn.grubhub.com/image/upload/w_1...        3.45   \n",
       "3  https://media-cdn.grubhub.com/image/upload/w_1...        3.45   \n",
       "4  https://media-cdn.grubhub.com/image/upload/w_1...        3.45   \n",
       "\n",
       "  dish_category  dish_category_encoded  shop_name_mapped  price_normalized  \n",
       "0   Hot Coffees                     14                 0         -0.491406  \n",
       "1   Hot Coffees                     14                 0         -0.024619  \n",
       "2   Hot Coffees                     14                 0         -0.491406  \n",
       "3   Hot Coffees                     14                 0         -0.491406  \n",
       "4   Hot Coffees                     14                 0         -0.491406  "
      ]
     },
     "execution_count": 12,
     "metadata": {},
     "output_type": "execute_result"
    }
   ],
   "source": [
    "df_clean.head()"
   ]
  },
  {
   "cell_type": "code",
   "execution_count": 13,
   "id": "e2cf2d42-171f-4058-88ef-f0ab45e817bc",
   "metadata": {},
   "outputs": [
    {
     "data": {
      "image/png": "[encoded data removed]",
      "text/plain": [
       "<Figure size 640x480 with 1 Axes>"
      ]
     },
     "metadata": {},
     "output_type": "display_data"
    }
   ],
   "source": [
    "# apply k-means clustering (use dish_price to create clusters)\n",
    "# create a list to store all intertia\n",
    "# an inertia is the sum of squared distances from each point to its clustoid (the nearest cluster)\n",
    "inertia = []\n",
    "# check for best fit between 1 and 8 clusters.\n",
    "for k in range(1, 7):\n",
    "    # creates the KMeans object for k clusters.\n",
    "    kmeans = KMeans(n_clusters=k, random_state=42)\n",
    "    # fit the KMeans object to the priced_normalized column.\n",
    "    kmeans.fit(df_clean[['price_normalized']])\n",
    "    # add resulting inertia to the list.\n",
    "    inertia.append(kmeans.inertia_)\n",
    "\n",
    "# Plot Elbow Curve\n",
    "plt.plot(range(1,7), inertia)\n",
    "plt.xlabel('Number of Clusters (K)')\n",
    "plt.ylabel('Inertia')\n",
    "plt.title('Elbow Method for Optimal K')\n",
    "plt.show()"
   ]
  },
  {
   "cell_type": "code",
   "execution_count": 14,
   "id": "662f3441-54bf-4ae2-98fb-02c462efd241",
   "metadata": {},
   "outputs": [],
   "source": [
    "# above graph shows the greatest change ('elblow') at 3, so we will use 3 clusters\n",
    "optimal_k = 3 \n",
    "# run the KMeans algorithm for 3 clusters\n",
    "kmeans = KMeans(n_clusters=optimal_k, random_state=42)\n",
    "df_clean['cluster'] = kmeans.fit_predict(df_clean[['price_normalized']])"
   ]
  },
  {
   "cell_type": "code",
   "execution_count": 15,
   "id": "1124467b-c50a-4ed8-a137-b2e4759b9db4",
   "metadata": {},
   "outputs": [
    {
     "data": {
      "text/html": [
       "<div>\n",
       "<style scoped>\n",
       "    .dataframe tbody tr th:only-of-type {\n",
       "        vertical-align: middle;\n",
       "    }\n",
       "\n",
       "    .dataframe tbody tr th {\n",
       "        vertical-align: top;\n",
       "    }\n",
       "\n",
       "    .dataframe thead th {\n",
       "        text-align: right;\n",
       "    }\n",
       "</style>\n",
       "<table border=\"1\" class=\"dataframe\">\n",
       "  <thead>\n",
       "    <tr style=\"text-align: right;\">\n",
       "      <th></th>\n",
       "      <th>shop_name</th>\n",
       "      <th>location</th>\n",
       "      <th>dish_name</th>\n",
       "      <th>dish_description</th>\n",
       "      <th>dish_image_link</th>\n",
       "      <th>dish_price</th>\n",
       "      <th>dish_category</th>\n",
       "      <th>dish_category_encoded</th>\n",
       "      <th>shop_name_mapped</th>\n",
       "      <th>price_normalized</th>\n",
       "      <th>cluster</th>\n",
       "    </tr>\n",
       "  </thead>\n",
       "  <tbody>\n",
       "    <tr>\n",
       "      <th>0</th>\n",
       "      <td>Starbucks</td>\n",
       "      <td>[42.3399145, -71.0887372]</td>\n",
       "      <td>Caffe Americano</td>\n",
       "      <td>Espresso shots topped with hot water create a ...</td>\n",
       "      <td>https://media-cdn.grubhub.com/image/upload/w_1...</td>\n",
       "      <td>3.45</td>\n",
       "      <td>Hot Coffees</td>\n",
       "      <td>14</td>\n",
       "      <td>0</td>\n",
       "      <td>-0.491406</td>\n",
       "      <td>0</td>\n",
       "    </tr>\n",
       "    <tr>\n",
       "      <th>1</th>\n",
       "      <td>Starbucks</td>\n",
       "      <td>[42.3399145, -71.0887372]</td>\n",
       "      <td>Caffe Misto</td>\n",
       "      <td>A 1-to-1 combination of fresh-brewed coffee an...</td>\n",
       "      <td>https://media-cdn.grubhub.com/image/upload/w_1...</td>\n",
       "      <td>4.25</td>\n",
       "      <td>Hot Coffees</td>\n",
       "      <td>14</td>\n",
       "      <td>0</td>\n",
       "      <td>-0.024619</td>\n",
       "      <td>2</td>\n",
       "    </tr>\n",
       "    <tr>\n",
       "      <th>2</th>\n",
       "      <td>Starbucks</td>\n",
       "      <td>[42.3399145, -71.0887372]</td>\n",
       "      <td>Blonde Roast Coffee</td>\n",
       "      <td>Lightly roasted coffee that's soft, mellow and...</td>\n",
       "      <td>https://media-cdn.grubhub.com/image/upload/w_1...</td>\n",
       "      <td>3.45</td>\n",
       "      <td>Hot Coffees</td>\n",
       "      <td>14</td>\n",
       "      <td>0</td>\n",
       "      <td>-0.491406</td>\n",
       "      <td>0</td>\n",
       "    </tr>\n",
       "    <tr>\n",
       "      <th>3</th>\n",
       "      <td>Starbucks</td>\n",
       "      <td>[42.3399145, -71.0887372]</td>\n",
       "      <td>Featured Starbucks Dark Roast Coffee</td>\n",
       "      <td>This full-bodied dark roast coffee with bold, ...</td>\n",
       "      <td>https://media-cdn.grubhub.com/image/upload/w_1...</td>\n",
       "      <td>3.45</td>\n",
       "      <td>Hot Coffees</td>\n",
       "      <td>14</td>\n",
       "      <td>0</td>\n",
       "      <td>-0.491406</td>\n",
       "      <td>0</td>\n",
       "    </tr>\n",
       "    <tr>\n",
       "      <th>4</th>\n",
       "      <td>Starbucks</td>\n",
       "      <td>[42.3399145, -71.0887372]</td>\n",
       "      <td>Pike Place Roast Coffee</td>\n",
       "      <td>From our first store in Seattle's Pike Place M...</td>\n",
       "      <td>https://media-cdn.grubhub.com/image/upload/w_1...</td>\n",
       "      <td>3.45</td>\n",
       "      <td>Hot Coffees</td>\n",
       "      <td>14</td>\n",
       "      <td>0</td>\n",
       "      <td>-0.491406</td>\n",
       "      <td>0</td>\n",
       "    </tr>\n",
       "  </tbody>\n",
       "</table>\n",
       "</div>"
      ],
      "text/plain": [
       "   shop_name                   location                             dish_name  \\\n",
       "0  Starbucks  [42.3399145, -71.0887372]                       Caffe Americano   \n",
       "1  Starbucks  [42.3399145, -71.0887372]                           Caffe Misto   \n",
       "2  Starbucks  [42.3399145, -71.0887372]                   Blonde Roast Coffee   \n",
       "3  Starbucks  [42.3399145, -71.0887372]  Featured Starbucks Dark Roast Coffee   \n",
       "4  Starbucks  [42.3399145, -71.0887372]               Pike Place Roast Coffee   \n",
       "\n",
       "                                    dish_description  \\\n",
       "0  Espresso shots topped with hot water create a ...   \n",
       "1  A 1-to-1 combination of fresh-brewed coffee an...   \n",
       "2  Lightly roasted coffee that's soft, mellow and...   \n",
       "3  This full-bodied dark roast coffee with bold, ...   \n",
       "4  From our first store in Seattle's Pike Place M...   \n",
       "\n",
       "                                     dish_image_link  dish_price  \\\n",
       "0  https://media-cdn.grubhub.com/image/upload/w_1...        3.45   \n",
       "1  https://media-cdn.grubhub.com/image/upload/w_1...        4.25   \n",
       "2  https://media-cdn.grubhub.com/image/upload/w_1...        3.45   \n",
       "3  https://media-cdn.grubhub.com/image/upload/w_1...        3.45   \n",
       "4  https://media-cdn.grubhub.com/image/upload/w_1...        3.45   \n",
       "\n",
       "  dish_category  dish_category_encoded  shop_name_mapped  price_normalized  \\\n",
       "0   Hot Coffees                     14                 0         -0.491406   \n",
       "1   Hot Coffees                     14                 0         -0.024619   \n",
       "2   Hot Coffees                     14                 0         -0.491406   \n",
       "3   Hot Coffees                     14                 0         -0.491406   \n",
       "4   Hot Coffees                     14                 0         -0.491406   \n",
       "\n",
       "   cluster  \n",
       "0        0  \n",
       "1        2  \n",
       "2        0  \n",
       "3        0  \n",
       "4        0  "
      ]
     },
     "execution_count": 15,
     "metadata": {},
     "output_type": "execute_result"
    }
   ],
   "source": [
    "df_clean.head()"
   ]
  },
  {
   "cell_type": "code",
   "execution_count": 19,
   "id": "79566121-7055-485c-8eda-bb81d6a0bb51",
   "metadata": {},
   "outputs": [
    {
     "name": "stdout",
     "output_type": "stream",
     "text": [
      "                   dish_price  dish_category_encoded  price_normalized\n",
      "cluster shop_name                                                     \n",
      "0       Saxby        2.653659              10.829268         -0.956059\n",
      "        Starbucks    2.943077               9.015385         -0.787188\n",
      "1       Saxby       10.351429               9.000000          3.535471\n",
      "        Starbucks    7.650000              18.000000          1.959229\n",
      "2       Saxby        5.144783              11.891304          0.497473\n",
      "        Starbucks    4.964141               9.656566          0.392072\n"
     ]
    }
   ],
   "source": [
    "numeric_columns = ['dish_price', 'dish_category_encoded', 'price_normalized']\n",
    "cluster_summary = df_clean.groupby(['cluster', 'shop_name'])[numeric_columns].mean()\n",
    "print(cluster_summary)"
   ]
  },
  {
   "cell_type": "code",
   "execution_count": 20,
   "id": "3fbed0d8-32e9-4777-9709-b396bcb53b95",
   "metadata": {},
   "outputs": [
    {
     "data": {
      "image/png": "[encoded data removed]",
      "text/plain": [
       "<Figure size 1000x600 with 1 Axes>"
      ]
     },
     "metadata": {},
     "output_type": "display_data"
    }
   ],
   "source": [
    "import seaborn as sns\n",
    "\n",
    "# Scatter plot showing clusters by price\n",
    "plt.figure(figsize=(10, 6))\n",
    "sns.scatterplot(data=df_clean, x='dish_price', y='dish_category_encoded', hue='cluster', style='shop_name')\n",
    "plt.title('K-Means Clustering of Dishes by Price and Category')\n",
    "plt.show()"
   ]
  }
 ],
 "metadata": {
  "kernelspec": {
   "display_name": "Python 3 (ipykernel)",
   "language": "python",
   "name": "python3"
  },
  "language_info": {
   "codemirror_mode": {
    "name": "ipython",
    "version": 3
   },
   "file_extension": ".py",
   "mimetype": "text/x-python",
   "name": "python",
   "nbconvert_exporter": "python",
   "pygments_lexer": "ipython3",
   "version": "3.12.2"
  }
 },
 "nbformat": 4,
 "nbformat_minor": 5
}
