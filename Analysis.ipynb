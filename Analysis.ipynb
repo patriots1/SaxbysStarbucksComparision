{
 "cells": [
  {
   "cell_type": "code",
   "execution_count": 273,
   "id": "f4ccb0f4-ac73-45df-a04f-f3cdba4635cf",
   "metadata": {},
   "outputs": [],
   "source": [
    "import pandas as pd\n",
    "import json\n",
    "from json import encoder\n",
    "from sklearn.preprocessing import LabelEncoder\n",
    "from sklearn.preprocessing import StandardScaler"
   ]
  },
  {
   "cell_type": "code",
   "execution_count": 274,
   "id": "a4f68eb8-65c1-448d-8927-d4dd81015590",
   "metadata": {},
   "outputs": [],
   "source": [
    "# import data from cleaned json file\n",
    "file = open('cleaned_input_file.json')"
   ]
  },
  {
   "cell_type": "code",
   "execution_count": 275,
   "id": "9e6fd7f4-341b-49fb-a9ac-3dbb802efe40",
   "metadata": {},
   "outputs": [
    {
     "data": {
      "text/plain": [
       "list"
      ]
     },
     "execution_count": 275,
     "metadata": {},
     "output_type": "execute_result"
    }
   ],
   "source": [
    "# convert the input file to a dictionary\n",
    "data_ls = json.load(file)\n",
    "type(data_ls)"
   ]
  },
  {
   "cell_type": "code",
   "execution_count": 220,
   "id": "61a02475-576b-4595-bb63-ff8da4e861ce",
   "metadata": {},
   "outputs": [],
   "source": [
    "# convert the dictionary to a panda dataframe\n",
    "data_df = pd.DataFrame(data_dc)"
   ]
  },
  {
   "cell_type": "code",
   "execution_count": 198,
   "id": "53654028-1fc5-48b4-b4ae-0c1d57ca2d05",
   "metadata": {},
   "outputs": [
    {
     "data": {
      "text/html": [
       "<div>\n",
       "<style scoped>\n",
       "    .dataframe tbody tr th:only-of-type {\n",
       "        vertical-align: middle;\n",
       "    }\n",
       "\n",
       "    .dataframe tbody tr th {\n",
       "        vertical-align: top;\n",
       "    }\n",
       "\n",
       "    .dataframe thead th {\n",
       "        text-align: right;\n",
       "    }\n",
       "</style>\n",
       "<table border=\"1\" class=\"dataframe\">\n",
       "  <thead>\n",
       "    <tr style=\"text-align: right;\">\n",
       "      <th></th>\n",
       "      <th>shop_name</th>\n",
       "      <th>location</th>\n",
       "      <th>dish_name</th>\n",
       "      <th>dish_description</th>\n",
       "      <th>dish_image_link</th>\n",
       "      <th>dish_price</th>\n",
       "      <th>dish_category</th>\n",
       "    </tr>\n",
       "  </thead>\n",
       "  <tbody>\n",
       "    <tr>\n",
       "      <th>0</th>\n",
       "      <td>Starbucks</td>\n",
       "      <td>[42.3399145, -71.0887372]</td>\n",
       "      <td>Caffe Americano</td>\n",
       "      <td>Espresso shots topped with hot water create a ...</td>\n",
       "      <td>https://media-cdn.grubhub.com/image/upload/w_1...</td>\n",
       "      <td>345</td>\n",
       "      <td>Hot Coffees</td>\n",
       "    </tr>\n",
       "    <tr>\n",
       "      <th>1</th>\n",
       "      <td>Starbucks</td>\n",
       "      <td>[42.3399145, -71.0887372]</td>\n",
       "      <td>Caffe Misto</td>\n",
       "      <td>A 1-to-1 combination of fresh-brewed coffee an...</td>\n",
       "      <td>https://media-cdn.grubhub.com/image/upload/w_1...</td>\n",
       "      <td>425</td>\n",
       "      <td>Hot Coffees</td>\n",
       "    </tr>\n",
       "    <tr>\n",
       "      <th>2</th>\n",
       "      <td>Starbucks</td>\n",
       "      <td>[42.3399145, -71.0887372]</td>\n",
       "      <td>Blonde Roast Coffee</td>\n",
       "      <td>Lightly roasted coffee that's soft, mellow and...</td>\n",
       "      <td>https://media-cdn.grubhub.com/image/upload/w_1...</td>\n",
       "      <td>345</td>\n",
       "      <td>Hot Coffees</td>\n",
       "    </tr>\n",
       "    <tr>\n",
       "      <th>3</th>\n",
       "      <td>Starbucks</td>\n",
       "      <td>[42.3399145, -71.0887372]</td>\n",
       "      <td>Featured Starbucks Dark Roast Coffee</td>\n",
       "      <td>This full-bodied dark roast coffee with bold, ...</td>\n",
       "      <td>https://media-cdn.grubhub.com/image/upload/w_1...</td>\n",
       "      <td>345</td>\n",
       "      <td>Hot Coffees</td>\n",
       "    </tr>\n",
       "    <tr>\n",
       "      <th>4</th>\n",
       "      <td>Starbucks</td>\n",
       "      <td>[42.3399145, -71.0887372]</td>\n",
       "      <td>Pike Place Roast Coffee</td>\n",
       "      <td>From our first store in Seattle's Pike Place M...</td>\n",
       "      <td>https://media-cdn.grubhub.com/image/upload/w_1...</td>\n",
       "      <td>345</td>\n",
       "      <td>Hot Coffees</td>\n",
       "    </tr>\n",
       "  </tbody>\n",
       "</table>\n",
       "</div>"
      ],
      "text/plain": [
       "   shop_name                   location                             dish_name  \\\n",
       "0  Starbucks  [42.3399145, -71.0887372]                       Caffe Americano   \n",
       "1  Starbucks  [42.3399145, -71.0887372]                           Caffe Misto   \n",
       "2  Starbucks  [42.3399145, -71.0887372]                   Blonde Roast Coffee   \n",
       "3  Starbucks  [42.3399145, -71.0887372]  Featured Starbucks Dark Roast Coffee   \n",
       "4  Starbucks  [42.3399145, -71.0887372]               Pike Place Roast Coffee   \n",
       "\n",
       "                                    dish_description  \\\n",
       "0  Espresso shots topped with hot water create a ...   \n",
       "1  A 1-to-1 combination of fresh-brewed coffee an...   \n",
       "2  Lightly roasted coffee that's soft, mellow and...   \n",
       "3  This full-bodied dark roast coffee with bold, ...   \n",
       "4  From our first store in Seattle's Pike Place M...   \n",
       "\n",
       "                                     dish_image_link dish_price dish_category  \n",
       "0  https://media-cdn.grubhub.com/image/upload/w_1...        345   Hot Coffees  \n",
       "1  https://media-cdn.grubhub.com/image/upload/w_1...        425   Hot Coffees  \n",
       "2  https://media-cdn.grubhub.com/image/upload/w_1...        345   Hot Coffees  \n",
       "3  https://media-cdn.grubhub.com/image/upload/w_1...        345   Hot Coffees  \n",
       "4  https://media-cdn.grubhub.com/image/upload/w_1...        345   Hot Coffees  "
      ]
     },
     "execution_count": 198,
     "metadata": {},
     "output_type": "execute_result"
    }
   ],
   "source": [
    "data_df.head()"
   ]
  },
  {
   "cell_type": "code",
   "execution_count": 221,
   "id": "f7fa4a14-b0fe-4b15-9b9c-fe9e244d148e",
   "metadata": {},
   "outputs": [
    {
     "name": "stdout",
     "output_type": "stream",
     "text": [
      "shop_name           0\n",
      "location            0\n",
      "dish_name           0\n",
      "dish_description    0\n",
      "dish_image_link     0\n",
      "dish_price          1\n",
      "dish_category       0\n",
      "dtype: int64\n"
     ]
    }
   ],
   "source": [
    "# check for null values in the dataframe\n",
    "print(data_df.isnull().sum())"
   ]
  },
  {
   "cell_type": "code",
   "execution_count": 222,
   "id": "8766cbb2-8e93-44c0-84c4-6b5def80ec33",
   "metadata": {},
   "outputs": [
    {
     "data": {
      "text/html": [
       "<div>\n",
       "<style scoped>\n",
       "    .dataframe tbody tr th:only-of-type {\n",
       "        vertical-align: middle;\n",
       "    }\n",
       "\n",
       "    .dataframe tbody tr th {\n",
       "        vertical-align: top;\n",
       "    }\n",
       "\n",
       "    .dataframe thead th {\n",
       "        text-align: right;\n",
       "    }\n",
       "</style>\n",
       "<table border=\"1\" class=\"dataframe\">\n",
       "  <thead>\n",
       "    <tr style=\"text-align: right;\">\n",
       "      <th></th>\n",
       "      <th>shop_name</th>\n",
       "      <th>location</th>\n",
       "      <th>dish_name</th>\n",
       "      <th>dish_description</th>\n",
       "      <th>dish_image_link</th>\n",
       "      <th>dish_price</th>\n",
       "      <th>dish_category</th>\n",
       "    </tr>\n",
       "  </thead>\n",
       "  <tbody>\n",
       "    <tr>\n",
       "      <th>103</th>\n",
       "      <td>Starbucks</td>\n",
       "      <td>[42.3399145, -71.0887372]</td>\n",
       "      <td>Water</td>\n",
       "      <td>The essential refresher.</td>\n",
       "      <td>https://media-cdn.grubhub.com/image/upload/w_1...</td>\n",
       "      <td>None</td>\n",
       "      <td>Cold Drinks</td>\n",
       "    </tr>\n",
       "  </tbody>\n",
       "</table>\n",
       "</div>"
      ],
      "text/plain": [
       "     shop_name                   location dish_name          dish_description  \\\n",
       "103  Starbucks  [42.3399145, -71.0887372]     Water  The essential refresher.   \n",
       "\n",
       "                                       dish_image_link dish_price  \\\n",
       "103  https://media-cdn.grubhub.com/image/upload/w_1...       None   \n",
       "\n",
       "    dish_category  \n",
       "103   Cold Drinks  "
      ]
     },
     "execution_count": 222,
     "metadata": {},
     "output_type": "execute_result"
    }
   ],
   "source": [
    "# find the null price (just for fun)\n",
    "data_df[data_df.isnull().any(axis=1)]"
   ]
  },
  {
   "cell_type": "code",
   "execution_count": 223,
   "id": "040bf6f0-82ff-45b0-aad6-e36a794d9c36",
   "metadata": {},
   "outputs": [
    {
     "data": {
      "text/html": [
       "<div>\n",
       "<style scoped>\n",
       "    .dataframe tbody tr th:only-of-type {\n",
       "        vertical-align: middle;\n",
       "    }\n",
       "\n",
       "    .dataframe tbody tr th {\n",
       "        vertical-align: top;\n",
       "    }\n",
       "\n",
       "    .dataframe thead th {\n",
       "        text-align: right;\n",
       "    }\n",
       "</style>\n",
       "<table border=\"1\" class=\"dataframe\">\n",
       "  <thead>\n",
       "    <tr style=\"text-align: right;\">\n",
       "      <th></th>\n",
       "      <th>shop_name</th>\n",
       "      <th>location</th>\n",
       "      <th>dish_name</th>\n",
       "      <th>dish_description</th>\n",
       "      <th>dish_image_link</th>\n",
       "      <th>dish_price</th>\n",
       "      <th>dish_category</th>\n",
       "    </tr>\n",
       "  </thead>\n",
       "  <tbody>\n",
       "    <tr>\n",
       "      <th>count</th>\n",
       "      <td>261</td>\n",
       "      <td>261</td>\n",
       "      <td>261</td>\n",
       "      <td>261</td>\n",
       "      <td>261</td>\n",
       "      <td>261</td>\n",
       "      <td>261</td>\n",
       "    </tr>\n",
       "    <tr>\n",
       "      <th>unique</th>\n",
       "      <td>2</td>\n",
       "      <td>2</td>\n",
       "      <td>241</td>\n",
       "      <td>245</td>\n",
       "      <td>247</td>\n",
       "      <td>67</td>\n",
       "      <td>25</td>\n",
       "    </tr>\n",
       "    <tr>\n",
       "      <th>top</th>\n",
       "      <td>Starbucks</td>\n",
       "      <td>[42.3399145, -71.0887372]</td>\n",
       "      <td>Avocado Spread</td>\n",
       "      <td>Spruce up your sandwich or sous vide egg bites...</td>\n",
       "      <td>https://media-cdn.grubhub.com/image/upload/w_1...</td>\n",
       "      <td>495</td>\n",
       "      <td>Cold Drinks</td>\n",
       "    </tr>\n",
       "    <tr>\n",
       "      <th>freq</th>\n",
       "      <td>166</td>\n",
       "      <td>166</td>\n",
       "      <td>4</td>\n",
       "      <td>4</td>\n",
       "      <td>4</td>\n",
       "      <td>24</td>\n",
       "      <td>27</td>\n",
       "    </tr>\n",
       "  </tbody>\n",
       "</table>\n",
       "</div>"
      ],
      "text/plain": [
       "        shop_name                   location       dish_name  \\\n",
       "count         261                        261             261   \n",
       "unique          2                          2             241   \n",
       "top     Starbucks  [42.3399145, -71.0887372]  Avocado Spread   \n",
       "freq          166                        166               4   \n",
       "\n",
       "                                         dish_description  \\\n",
       "count                                                 261   \n",
       "unique                                                245   \n",
       "top     Spruce up your sandwich or sous vide egg bites...   \n",
       "freq                                                    4   \n",
       "\n",
       "                                          dish_image_link  dish_price  \\\n",
       "count                                                 261         261   \n",
       "unique                                                247          67   \n",
       "top     https://media-cdn.grubhub.com/image/upload/w_1...         495   \n",
       "freq                                                    4          24   \n",
       "\n",
       "       dish_category  \n",
       "count            261  \n",
       "unique            25  \n",
       "top      Cold Drinks  \n",
       "freq              27  "
      ]
     },
     "execution_count": 223,
     "metadata": {},
     "output_type": "execute_result"
    }
   ],
   "source": [
    "# drop the null price row\n",
    "df_clean = data_df.dropna(subset=['dish_price'])\n",
    "df_clean.describe()"
   ]
  },
  {
   "cell_type": "code",
   "execution_count": 239,
   "id": "5eee1461-42b7-4678-812b-ae74b68b8e58",
   "metadata": {},
   "outputs": [],
   "source": [
    "# Convert dish_category to numerical values using LabelEncoder\n",
    "le = LabelEncoder()\n",
    "df_clean.loc[:, 'dish_category_encoded'] = le.fit_transform(df_clean['dish_category'])"
   ]
  },
  {
   "cell_type": "code",
   "execution_count": 319,
   "id": "3fe2bf0a-e172-4d8c-96d4-77df227d0237",
   "metadata": {},
   "outputs": [
    {
     "ename": "KeyError",
     "evalue": "\"['dish_category_encoded'] not found in axis\"",
     "output_type": "error",
     "traceback": [
      "\u001b[0;31m---------------------------------------------------------------------------\u001b[0m",
      "\u001b[0;31mKeyError\u001b[0m                                  Traceback (most recent call last)",
      "Cell \u001b[0;32mIn[319], line 5\u001b[0m\n\u001b[1;32m      2\u001b[0m \u001b[38;5;66;03m# df_clean.loc[:, 'price_normalized'] = scaler.fit_transform(pd.Series(df_clean[['dish_price']]))\u001b[39;00m\n\u001b[1;32m      3\u001b[0m encoder\u001b[38;5;241m.\u001b[39mFLOAT_REPR \u001b[38;5;241m=\u001b[39m \u001b[38;5;28;01mlambda\u001b[39;00m o: \u001b[38;5;28mformat\u001b[39m(o, \u001b[38;5;124m'\u001b[39m\u001b[38;5;124m.2f\u001b[39m\u001b[38;5;124m'\u001b[39m)\n\u001b[0;32m----> 5\u001b[0m df_clean_encoded \u001b[38;5;241m=\u001b[39m df_clean\u001b[38;5;241m.\u001b[39mdrop(\u001b[38;5;124m'\u001b[39m\u001b[38;5;124mdish_category_encoded\u001b[39m\u001b[38;5;124m'\u001b[39m, axis \u001b[38;5;241m=\u001b[39m \u001b[38;5;241m1\u001b[39m)\n",
      "File \u001b[0;32m/opt/anaconda3/lib/python3.12/site-packages/pandas/core/frame.py:5581\u001b[0m, in \u001b[0;36mDataFrame.drop\u001b[0;34m(self, labels, axis, index, columns, level, inplace, errors)\u001b[0m\n\u001b[1;32m   5433\u001b[0m \u001b[38;5;28;01mdef\u001b[39;00m \u001b[38;5;21mdrop\u001b[39m(\n\u001b[1;32m   5434\u001b[0m     \u001b[38;5;28mself\u001b[39m,\n\u001b[1;32m   5435\u001b[0m     labels: IndexLabel \u001b[38;5;241m|\u001b[39m \u001b[38;5;28;01mNone\u001b[39;00m \u001b[38;5;241m=\u001b[39m \u001b[38;5;28;01mNone\u001b[39;00m,\n\u001b[0;32m   (...)\u001b[0m\n\u001b[1;32m   5442\u001b[0m     errors: IgnoreRaise \u001b[38;5;241m=\u001b[39m \u001b[38;5;124m\"\u001b[39m\u001b[38;5;124mraise\u001b[39m\u001b[38;5;124m\"\u001b[39m,\n\u001b[1;32m   5443\u001b[0m ) \u001b[38;5;241m-\u001b[39m\u001b[38;5;241m>\u001b[39m DataFrame \u001b[38;5;241m|\u001b[39m \u001b[38;5;28;01mNone\u001b[39;00m:\n\u001b[1;32m   5444\u001b[0m \u001b[38;5;250m    \u001b[39m\u001b[38;5;124;03m\"\"\"\u001b[39;00m\n\u001b[1;32m   5445\u001b[0m \u001b[38;5;124;03m    Drop specified labels from rows or columns.\u001b[39;00m\n\u001b[1;32m   5446\u001b[0m \n\u001b[0;32m   (...)\u001b[0m\n\u001b[1;32m   5579\u001b[0m \u001b[38;5;124;03m            weight  1.0     0.8\u001b[39;00m\n\u001b[1;32m   5580\u001b[0m \u001b[38;5;124;03m    \"\"\"\u001b[39;00m\n\u001b[0;32m-> 5581\u001b[0m     \u001b[38;5;28;01mreturn\u001b[39;00m \u001b[38;5;28msuper\u001b[39m()\u001b[38;5;241m.\u001b[39mdrop(\n\u001b[1;32m   5582\u001b[0m         labels\u001b[38;5;241m=\u001b[39mlabels,\n\u001b[1;32m   5583\u001b[0m         axis\u001b[38;5;241m=\u001b[39maxis,\n\u001b[1;32m   5584\u001b[0m         index\u001b[38;5;241m=\u001b[39mindex,\n\u001b[1;32m   5585\u001b[0m         columns\u001b[38;5;241m=\u001b[39mcolumns,\n\u001b[1;32m   5586\u001b[0m         level\u001b[38;5;241m=\u001b[39mlevel,\n\u001b[1;32m   5587\u001b[0m         inplace\u001b[38;5;241m=\u001b[39minplace,\n\u001b[1;32m   5588\u001b[0m         errors\u001b[38;5;241m=\u001b[39merrors,\n\u001b[1;32m   5589\u001b[0m     )\n",
      "File \u001b[0;32m/opt/anaconda3/lib/python3.12/site-packages/pandas/core/generic.py:4788\u001b[0m, in \u001b[0;36mNDFrame.drop\u001b[0;34m(self, labels, axis, index, columns, level, inplace, errors)\u001b[0m\n\u001b[1;32m   4786\u001b[0m \u001b[38;5;28;01mfor\u001b[39;00m axis, labels \u001b[38;5;129;01min\u001b[39;00m axes\u001b[38;5;241m.\u001b[39mitems():\n\u001b[1;32m   4787\u001b[0m     \u001b[38;5;28;01mif\u001b[39;00m labels \u001b[38;5;129;01mis\u001b[39;00m \u001b[38;5;129;01mnot\u001b[39;00m \u001b[38;5;28;01mNone\u001b[39;00m:\n\u001b[0;32m-> 4788\u001b[0m         obj \u001b[38;5;241m=\u001b[39m obj\u001b[38;5;241m.\u001b[39m_drop_axis(labels, axis, level\u001b[38;5;241m=\u001b[39mlevel, errors\u001b[38;5;241m=\u001b[39merrors)\n\u001b[1;32m   4790\u001b[0m \u001b[38;5;28;01mif\u001b[39;00m inplace:\n\u001b[1;32m   4791\u001b[0m     \u001b[38;5;28mself\u001b[39m\u001b[38;5;241m.\u001b[39m_update_inplace(obj)\n",
      "File \u001b[0;32m/opt/anaconda3/lib/python3.12/site-packages/pandas/core/generic.py:4830\u001b[0m, in \u001b[0;36mNDFrame._drop_axis\u001b[0;34m(self, labels, axis, level, errors, only_slice)\u001b[0m\n\u001b[1;32m   4828\u001b[0m         new_axis \u001b[38;5;241m=\u001b[39m axis\u001b[38;5;241m.\u001b[39mdrop(labels, level\u001b[38;5;241m=\u001b[39mlevel, errors\u001b[38;5;241m=\u001b[39merrors)\n\u001b[1;32m   4829\u001b[0m     \u001b[38;5;28;01melse\u001b[39;00m:\n\u001b[0;32m-> 4830\u001b[0m         new_axis \u001b[38;5;241m=\u001b[39m axis\u001b[38;5;241m.\u001b[39mdrop(labels, errors\u001b[38;5;241m=\u001b[39merrors)\n\u001b[1;32m   4831\u001b[0m     indexer \u001b[38;5;241m=\u001b[39m axis\u001b[38;5;241m.\u001b[39mget_indexer(new_axis)\n\u001b[1;32m   4833\u001b[0m \u001b[38;5;66;03m# Case for non-unique axis\u001b[39;00m\n\u001b[1;32m   4834\u001b[0m \u001b[38;5;28;01melse\u001b[39;00m:\n",
      "File \u001b[0;32m/opt/anaconda3/lib/python3.12/site-packages/pandas/core/indexes/base.py:7070\u001b[0m, in \u001b[0;36mIndex.drop\u001b[0;34m(self, labels, errors)\u001b[0m\n\u001b[1;32m   7068\u001b[0m \u001b[38;5;28;01mif\u001b[39;00m mask\u001b[38;5;241m.\u001b[39many():\n\u001b[1;32m   7069\u001b[0m     \u001b[38;5;28;01mif\u001b[39;00m errors \u001b[38;5;241m!=\u001b[39m \u001b[38;5;124m\"\u001b[39m\u001b[38;5;124mignore\u001b[39m\u001b[38;5;124m\"\u001b[39m:\n\u001b[0;32m-> 7070\u001b[0m         \u001b[38;5;28;01mraise\u001b[39;00m \u001b[38;5;167;01mKeyError\u001b[39;00m(\u001b[38;5;124mf\u001b[39m\u001b[38;5;124m\"\u001b[39m\u001b[38;5;132;01m{\u001b[39;00mlabels[mask]\u001b[38;5;241m.\u001b[39mtolist()\u001b[38;5;132;01m}\u001b[39;00m\u001b[38;5;124m not found in axis\u001b[39m\u001b[38;5;124m\"\u001b[39m)\n\u001b[1;32m   7071\u001b[0m     indexer \u001b[38;5;241m=\u001b[39m indexer[\u001b[38;5;241m~\u001b[39mmask]\n\u001b[1;32m   7072\u001b[0m \u001b[38;5;28;01mreturn\u001b[39;00m \u001b[38;5;28mself\u001b[39m\u001b[38;5;241m.\u001b[39mdelete(indexer)\n",
      "\u001b[0;31mKeyError\u001b[0m: \"['dish_category_encoded'] not found in axis\""
     ]
    }
   ],
   "source": [
    "scaler = StandardScaler()\n",
    "# df_clean.loc[:, 'price_normalized'] = scaler.fit_transform(pd.Series(df_clean[['dish_price']]))\n",
    "encoder.FLOAT_REPR = lambda o: format(o, '.2f')\n",
    "\n",
    "#df_clean_encoded = df_clean.drop('dish_category_encoded', axis = 1)\n",
    "\n",
    "# with open('cleaned_input_file1.json', 'w') as w:\n",
    "#     json.dump(df_clean.values.tolist(), w, indent = 4)\n"
   ]
  },
  {
   "cell_type": "code",
   "execution_count": 320,
   "id": "f3194340-dc87-426a-b1a1-11545f88bab5",
   "metadata": {},
   "outputs": [
    {
     "data": {
      "text/html": [
       "<div>\n",
       "<style scoped>\n",
       "    .dataframe tbody tr th:only-of-type {\n",
       "        vertical-align: middle;\n",
       "    }\n",
       "\n",
       "    .dataframe tbody tr th {\n",
       "        vertical-align: top;\n",
       "    }\n",
       "\n",
       "    .dataframe thead th {\n",
       "        text-align: right;\n",
       "    }\n",
       "</style>\n",
       "<table border=\"1\" class=\"dataframe\">\n",
       "  <thead>\n",
       "    <tr style=\"text-align: right;\">\n",
       "      <th></th>\n",
       "      <th>shop_name</th>\n",
       "      <th>location</th>\n",
       "      <th>dish_name</th>\n",
       "      <th>dish_description</th>\n",
       "      <th>dish_image_link</th>\n",
       "      <th>dish_price</th>\n",
       "      <th>dish_category</th>\n",
       "    </tr>\n",
       "  </thead>\n",
       "  <tbody>\n",
       "    <tr>\n",
       "      <th>0</th>\n",
       "      <td>Starbucks</td>\n",
       "      <td>[42.3399145, -71.0887372]</td>\n",
       "      <td>Caffe Americano</td>\n",
       "      <td>Espresso shots topped with hot water create a ...</td>\n",
       "      <td>https://media-cdn.grubhub.com/image/upload/w_1...</td>\n",
       "      <td>3.45</td>\n",
       "      <td>Hot Coffees</td>\n",
       "    </tr>\n",
       "    <tr>\n",
       "      <th>1</th>\n",
       "      <td>Starbucks</td>\n",
       "      <td>[42.3399145, -71.0887372]</td>\n",
       "      <td>Caffe Misto</td>\n",
       "      <td>A 1-to-1 combination of fresh-brewed coffee an...</td>\n",
       "      <td>https://media-cdn.grubhub.com/image/upload/w_1...</td>\n",
       "      <td>4.25</td>\n",
       "      <td>Hot Coffees</td>\n",
       "    </tr>\n",
       "    <tr>\n",
       "      <th>2</th>\n",
       "      <td>Starbucks</td>\n",
       "      <td>[42.3399145, -71.0887372]</td>\n",
       "      <td>Blonde Roast Coffee</td>\n",
       "      <td>Lightly roasted coffee that's soft, mellow and...</td>\n",
       "      <td>https://media-cdn.grubhub.com/image/upload/w_1...</td>\n",
       "      <td>3.45</td>\n",
       "      <td>Hot Coffees</td>\n",
       "    </tr>\n",
       "    <tr>\n",
       "      <th>3</th>\n",
       "      <td>Starbucks</td>\n",
       "      <td>[42.3399145, -71.0887372]</td>\n",
       "      <td>Featured Starbucks Dark Roast Coffee</td>\n",
       "      <td>This full-bodied dark roast coffee with bold, ...</td>\n",
       "      <td>https://media-cdn.grubhub.com/image/upload/w_1...</td>\n",
       "      <td>3.45</td>\n",
       "      <td>Hot Coffees</td>\n",
       "    </tr>\n",
       "    <tr>\n",
       "      <th>4</th>\n",
       "      <td>Starbucks</td>\n",
       "      <td>[42.3399145, -71.0887372]</td>\n",
       "      <td>Pike Place Roast Coffee</td>\n",
       "      <td>From our first store in Seattle's Pike Place M...</td>\n",
       "      <td>https://media-cdn.grubhub.com/image/upload/w_1...</td>\n",
       "      <td>3.45</td>\n",
       "      <td>Hot Coffees</td>\n",
       "    </tr>\n",
       "  </tbody>\n",
       "</table>\n",
       "</div>"
      ],
      "text/plain": [
       "   shop_name                   location                             dish_name  \\\n",
       "0  Starbucks  [42.3399145, -71.0887372]                       Caffe Americano   \n",
       "1  Starbucks  [42.3399145, -71.0887372]                           Caffe Misto   \n",
       "2  Starbucks  [42.3399145, -71.0887372]                   Blonde Roast Coffee   \n",
       "3  Starbucks  [42.3399145, -71.0887372]  Featured Starbucks Dark Roast Coffee   \n",
       "4  Starbucks  [42.3399145, -71.0887372]               Pike Place Roast Coffee   \n",
       "\n",
       "                                    dish_description  \\\n",
       "0  Espresso shots topped with hot water create a ...   \n",
       "1  A 1-to-1 combination of fresh-brewed coffee an...   \n",
       "2  Lightly roasted coffee that's soft, mellow and...   \n",
       "3  This full-bodied dark roast coffee with bold, ...   \n",
       "4  From our first store in Seattle's Pike Place M...   \n",
       "\n",
       "                                     dish_image_link dish_price dish_category  \n",
       "0  https://media-cdn.grubhub.com/image/upload/w_1...       3.45   Hot Coffees  \n",
       "1  https://media-cdn.grubhub.com/image/upload/w_1...       4.25   Hot Coffees  \n",
       "2  https://media-cdn.grubhub.com/image/upload/w_1...       3.45   Hot Coffees  \n",
       "3  https://media-cdn.grubhub.com/image/upload/w_1...       3.45   Hot Coffees  \n",
       "4  https://media-cdn.grubhub.com/image/upload/w_1...       3.45   Hot Coffees  "
      ]
     },
     "execution_count": 320,
     "metadata": {},
     "output_type": "execute_result"
    }
   ],
   "source": [
    "df_clean.head()"
   ]
  },
  {
   "cell_type": "code",
   "execution_count": 322,
   "id": "e2cf2d42-171f-4058-88ef-f0ab45e817bc",
   "metadata": {},
   "outputs": [
    {
     "data": {
      "text/plain": [
       "shop_name                                                   Starbucks\n",
       "location                                    [42.3399145, -71.0887372]\n",
       "dish_name                                             Caffe Americano\n",
       "dish_description    Espresso shots topped with hot water create a ...\n",
       "dish_image_link     https://media-cdn.grubhub.com/image/upload/w_1...\n",
       "dish_price                                                       3.45\n",
       "dish_category                                             Hot Coffees\n",
       "Name: 0, dtype: object"
      ]
     },
     "execution_count": 322,
     "metadata": {},
     "output_type": "execute_result"
    }
   ],
   "source": [
    "output_ls = []\n",
    "for i in range(0, 260):\n",
    "    s_se = df_clean.iloc[i].reset_index(drop=True)\n",
    "    s_rename = s_se.rename({0: 'shop_name', 1: 'location', 2: 'dish_name', 3: 'dish_description', 4: 'dish_image_link', 5: 'dish_price', 6: 'dish_category'})\n",
    "s_rename\n",
    "    output_ls.append(s_dc)\n",
    "    \n",
    "# x = df_clean.iloc[102:103, ]\n",
    "# s_ser = df_clean.iloc[103].reset_index(drop=True).squeeze()\n",
    "s_se = df_clean.iloc[0].reset_index(drop=True)\n",
    "s_rename = s_se.rename({0: 'shop_name', 1: 'location', 2: 'dish_name', 3: 'dish_description', 4: 'dish_image_link', 5: 'dish_price', 6: 'dish_category'})\n",
    "s_rename"
   ]
  }
 ],
 "metadata": {
  "kernelspec": {
   "display_name": "Python 3 (ipykernel)",
   "language": "python",
   "name": "python3"
  },
  "language_info": {
   "codemirror_mode": {
    "name": "ipython",
    "version": 3
   },
   "file_extension": ".py",
   "mimetype": "text/x-python",
   "name": "python",
   "nbconvert_exporter": "python",
   "pygments_lexer": "ipython3",
   "version": "3.12.2"
  }
 },
 "nbformat": 4,
 "nbformat_minor": 5
}
