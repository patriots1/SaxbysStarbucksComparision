{
 "cells": [
  {
   "cell_type": "markdown",
   "id": "163addcb-d4ec-49f6-9fad-49f2e062d2b8",
   "metadata": {},
   "source": [
    "## About\n",
    "\n",
    "### General\n",
    "Working on a dataset of offering prices at a local Starbucks and Saxby's (a local coffee shop). Scraped the data via a Grubhub API endpoint, see [GrubhubDataCleaning](https://github.com/patriots1/GrubhubDataCleaning). \n",
    "\n",
    "### Aim\n",
    "The aim of this analysis is to see how Saxby's and Starbuck's prices match up to each other. \n",
    "\n",
    "### Overview of process\n",
    "Did moderate cleaning of data to structure for K-Means Clustering, and general data analysis, which the first half of this notebook is about. Create a Swarmplot before K-Means Clustering for prelimenary statistical analysis, and implement K-Means Clustering for an ML approach to this analysis. "
   ]
  },
  {
   "cell_type": "markdown",
   "id": "ff6afb63-d87d-4b09-9074-428688de5634",
   "metadata": {},
   "source": [
    "## Part 1: Initializing Data"
   ]
  },
  {
   "cell_type": "markdown",
   "id": "11b55b2e-cbfa-497c-b84f-2b25a5e08ff3",
   "metadata": {},
   "source": [
    "#### Importing Dependencies"
   ]
  },
  {
   "cell_type": "code",
   "execution_count": 1,
   "id": "f4ccb0f4-ac73-45df-a04f-f3cdba4635cf",
   "metadata": {},
   "outputs": [],
   "source": [
    "import pandas as pd\n",
    "import json\n",
    "from json import encoder\n",
    "from sklearn.preprocessing import LabelEncoder\n",
    "from sklearn.preprocessing import StandardScaler\n",
    "from sklearn.cluster import KMeans\n",
    "import matplotlib.pyplot as plt\n",
    "import seaborn as sns"
   ]
  },
  {
   "cell_type": "markdown",
   "id": "e909aaad-766c-4082-82d1-1e7177e59bb4",
   "metadata": {},
   "source": [
    "#### Import data from JSON file and store it in a Pandas DataFrame"
   ]
  },
  {
   "cell_type": "code",
   "execution_count": 2,
   "id": "a4f68eb8-65c1-448d-8927-d4dd81015590",
   "metadata": {},
   "outputs": [],
   "source": [
    "# import data from cleaned json file\n",
    "file = open('cleaned_input_file1.json')"
   ]
  },
  {
   "cell_type": "code",
   "execution_count": 3,
   "id": "9e6fd7f4-341b-49fb-a9ac-3dbb802efe40",
   "metadata": {},
   "outputs": [],
   "source": [
    "# convert the input file to a dictionary\n",
    "data_ls = json.load(file)"
   ]
  },
  {
   "cell_type": "code",
   "execution_count": 4,
   "id": "41064b20-0e5b-4fee-8a36-fd9dc46aead1",
   "metadata": {},
   "outputs": [
    {
     "data": {
      "text/plain": [
       "{'shop_name': 'Starbucks',\n",
       " 'location': ['42.3399145', '-71.0887372'],\n",
       " 'dish_name': 'Caffe Americano',\n",
       " 'dish_description': 'Espresso shots topped with hot water create a light layer of crema culminating in this wonderfully rich cup with depth and nuance. Pro tip: For an additional boost, ask to try this with an extra shot.',\n",
       " 'dish_image_link': 'https://media-cdn.grubhub.com/image/upload/w_1.46,h_1,c_lpad/tapingo-shops-assets/media/images/941/bcd/a4f817112069a2a985978813eeef447702',\n",
       " 'dish_price': 3.45,\n",
       " 'dish_category': 'Hot Coffees'}"
      ]
     },
     "execution_count": 4,
     "metadata": {},
     "output_type": "execute_result"
    }
   ],
   "source": [
    "# look at the elements of the list\n",
    "data_ls[0]"
   ]
  },
  {
   "cell_type": "code",
   "execution_count": 5,
   "id": "61a02475-576b-4595-bb63-ff8da4e861ce",
   "metadata": {},
   "outputs": [],
   "source": [
    "# convert the dictionary to a panda dataframe\n",
    "data_df = pd.DataFrame(data_ls)"
   ]
  },
  {
   "cell_type": "markdown",
   "id": "55ee7867-1a2b-417b-9354-032ff2870cf0",
   "metadata": {},
   "source": [
    "#### Look at the various statistical values for numerical columns of this DataFrame"
   ]
  },
  {
   "cell_type": "code",
   "execution_count": 6,
   "id": "4a363041-dd97-4490-a031-05c1873ee369",
   "metadata": {},
   "outputs": [
    {
     "data": {
      "text/html": [
       "<div>\n",
       "<style scoped>\n",
       "    .dataframe tbody tr th:only-of-type {\n",
       "        vertical-align: middle;\n",
       "    }\n",
       "\n",
       "    .dataframe tbody tr th {\n",
       "        vertical-align: top;\n",
       "    }\n",
       "\n",
       "    .dataframe thead th {\n",
       "        text-align: right;\n",
       "    }\n",
       "</style>\n",
       "<table border=\"1\" class=\"dataframe\">\n",
       "  <thead>\n",
       "    <tr style=\"text-align: right;\">\n",
       "      <th></th>\n",
       "      <th>dish_price</th>\n",
       "    </tr>\n",
       "  </thead>\n",
       "  <tbody>\n",
       "    <tr>\n",
       "      <th>count</th>\n",
       "      <td>260.000000</td>\n",
       "    </tr>\n",
       "    <tr>\n",
       "      <th>mean</th>\n",
       "      <td>4.292192</td>\n",
       "    </tr>\n",
       "    <tr>\n",
       "      <th>std</th>\n",
       "      <td>1.717147</td>\n",
       "    </tr>\n",
       "    <tr>\n",
       "      <th>min</th>\n",
       "      <td>0.990000</td>\n",
       "    </tr>\n",
       "    <tr>\n",
       "      <th>25%</th>\n",
       "      <td>3.250000</td>\n",
       "    </tr>\n",
       "    <tr>\n",
       "      <th>50%</th>\n",
       "      <td>4.450000</td>\n",
       "    </tr>\n",
       "    <tr>\n",
       "      <th>75%</th>\n",
       "      <td>5.005000</td>\n",
       "    </tr>\n",
       "    <tr>\n",
       "      <th>max</th>\n",
       "      <td>14.000000</td>\n",
       "    </tr>\n",
       "  </tbody>\n",
       "</table>\n",
       "</div>"
      ],
      "text/plain": [
       "       dish_price\n",
       "count  260.000000\n",
       "mean     4.292192\n",
       "std      1.717147\n",
       "min      0.990000\n",
       "25%      3.250000\n",
       "50%      4.450000\n",
       "75%      5.005000\n",
       "max     14.000000"
      ]
     },
     "execution_count": 6,
     "metadata": {},
     "output_type": "execute_result"
    }
   ],
   "source": [
    "data_df.describe()"
   ]
  },
  {
   "cell_type": "markdown",
   "id": "8521c934-8045-415e-80d7-4ba2b5bb21f0",
   "metadata": {},
   "source": [
    "## Part 2: Clean data"
   ]
  },
  {
   "cell_type": "markdown",
   "id": "099042d4-3111-4b47-ba8b-bf842063bc77",
   "metadata": {},
   "source": [
    "#### Start cleaning data for analysis"
   ]
  },
  {
   "cell_type": "markdown",
   "id": "340505a5-fbf1-4a5d-a274-8c8098621e66",
   "metadata": {},
   "source": [
    "#### Split the DataFrame into two distinct DataFrames - one for Starbucks, another for Saxby's"
   ]
  },
  {
   "cell_type": "code",
   "execution_count": 7,
   "id": "53654028-1fc5-48b4-b4ae-0c1d57ca2d05",
   "metadata": {},
   "outputs": [],
   "source": [
    "dish_category_DataFrame = data_df.loc[:, ['shop_name', 'dish_category']]\n",
    "dish_category_DataFrame_starbucks = dish_category_DataFrame.loc[dish_category_DataFrame['shop_name'] == 'Starbucks', :  ]\n",
    "dish_category_DataFrame_saxbys = dish_category_DataFrame.loc[dish_category_DataFrame['shop_name'] == 'Saxby', :  ]\n",
    "starbucks_dc = dish_category_DataFrame_starbucks.to_dict()\n",
    "saxbys_dc = dish_category_DataFrame_saxbys.to_dict()"
   ]
  },
  {
   "cell_type": "markdown",
   "id": "4e795c00-49db-4217-8e10-a1c920c52341",
   "metadata": {},
   "source": [
    "#### Look at the various statistical values for numerical columns of the Starbucks DataFrame."
   ]
  },
  {
   "cell_type": "code",
   "execution_count": 8,
   "id": "3e542780-7b12-442e-95ed-bf229a7593e3",
   "metadata": {},
   "outputs": [
    {
     "data": {
      "text/html": [
       "<div>\n",
       "<style scoped>\n",
       "    .dataframe tbody tr th:only-of-type {\n",
       "        vertical-align: middle;\n",
       "    }\n",
       "\n",
       "    .dataframe tbody tr th {\n",
       "        vertical-align: top;\n",
       "    }\n",
       "\n",
       "    .dataframe thead th {\n",
       "        text-align: right;\n",
       "    }\n",
       "</style>\n",
       "<table border=\"1\" class=\"dataframe\">\n",
       "  <thead>\n",
       "    <tr style=\"text-align: right;\">\n",
       "      <th></th>\n",
       "      <th>shop_name</th>\n",
       "      <th>dish_category</th>\n",
       "    </tr>\n",
       "  </thead>\n",
       "  <tbody>\n",
       "    <tr>\n",
       "      <th>count</th>\n",
       "      <td>166</td>\n",
       "      <td>166</td>\n",
       "    </tr>\n",
       "    <tr>\n",
       "      <th>unique</th>\n",
       "      <td>1</td>\n",
       "      <td>12</td>\n",
       "    </tr>\n",
       "    <tr>\n",
       "      <th>top</th>\n",
       "      <td>Starbucks</td>\n",
       "      <td>Cold Drinks</td>\n",
       "    </tr>\n",
       "    <tr>\n",
       "      <th>freq</th>\n",
       "      <td>166</td>\n",
       "      <td>27</td>\n",
       "    </tr>\n",
       "  </tbody>\n",
       "</table>\n",
       "</div>"
      ],
      "text/plain": [
       "        shop_name dish_category\n",
       "count         166           166\n",
       "unique          1            12\n",
       "top     Starbucks   Cold Drinks\n",
       "freq          166            27"
      ]
     },
     "execution_count": 8,
     "metadata": {},
     "output_type": "execute_result"
    }
   ],
   "source": [
    "dish_category_DataFrame_starbucks.describe()"
   ]
  },
  {
   "cell_type": "markdown",
   "id": "1ab048c9-38f4-4108-85de-2da47d261ba0",
   "metadata": {},
   "source": [
    "#### Look at the various statistical values for numerical columns of the Saxby's DataFrame."
   ]
  },
  {
   "cell_type": "code",
   "execution_count": 9,
   "id": "a2afd3ab-568e-43b2-8464-aeaaf2e4e588",
   "metadata": {},
   "outputs": [
    {
     "data": {
      "text/html": [
       "<div>\n",
       "<style scoped>\n",
       "    .dataframe tbody tr th:only-of-type {\n",
       "        vertical-align: middle;\n",
       "    }\n",
       "\n",
       "    .dataframe tbody tr th {\n",
       "        vertical-align: top;\n",
       "    }\n",
       "\n",
       "    .dataframe thead th {\n",
       "        text-align: right;\n",
       "    }\n",
       "</style>\n",
       "<table border=\"1\" class=\"dataframe\">\n",
       "  <thead>\n",
       "    <tr style=\"text-align: right;\">\n",
       "      <th></th>\n",
       "      <th>shop_name</th>\n",
       "      <th>dish_category</th>\n",
       "    </tr>\n",
       "  </thead>\n",
       "  <tbody>\n",
       "    <tr>\n",
       "      <th>count</th>\n",
       "      <td>94</td>\n",
       "      <td>94</td>\n",
       "    </tr>\n",
       "    <tr>\n",
       "      <th>unique</th>\n",
       "      <td>1</td>\n",
       "      <td>14</td>\n",
       "    </tr>\n",
       "    <tr>\n",
       "      <th>top</th>\n",
       "      <td>Saxby</td>\n",
       "      <td>Teas &amp; Steamers</td>\n",
       "    </tr>\n",
       "    <tr>\n",
       "      <th>freq</th>\n",
       "      <td>94</td>\n",
       "      <td>16</td>\n",
       "    </tr>\n",
       "  </tbody>\n",
       "</table>\n",
       "</div>"
      ],
      "text/plain": [
       "       shop_name    dish_category\n",
       "count         94               94\n",
       "unique         1               14\n",
       "top        Saxby  Teas & Steamers\n",
       "freq          94               16"
      ]
     },
     "execution_count": 9,
     "metadata": {},
     "output_type": "execute_result"
    }
   ],
   "source": [
    "dish_category_DataFrame_saxbys.describe()"
   ]
  },
  {
   "cell_type": "markdown",
   "id": "ef410e8b-3e28-4389-a625-fe4a5544bdd3",
   "metadata": {},
   "source": [
    "Referring to **< above 2 tables >**\n",
    "#### Big difference: Starbucks has a much larger menu than Saxby's\n",
    "#### Solution: Normalize the prices of these dishes"
   ]
  },
  {
   "cell_type": "markdown",
   "id": "12c88647-b640-4f58-8e86-c4e33cf1e22b",
   "metadata": {},
   "source": [
    "Referring to the **< below block >**\n",
    "#### Find all the unique dish categories for Starbucks and Saxbys"
   ]
  },
  {
   "cell_type": "code",
   "execution_count": 10,
   "id": "72ab9c19-c10a-4941-9ce7-08b1f160300a",
   "metadata": {},
   "outputs": [
    {
     "name": "stdout",
     "output_type": "stream",
     "text": [
      "Starbucks: ['Hot Coffees', 'Hot Teas', 'Hot Drinks', 'Frappuccino Blended Beverages', 'Cold Coffees', 'Cold Drinks', 'Iced Teas', 'Hot Breakfast', 'Oatmeal & Yogurt', 'Bakery', 'Lunch', 'Snacks & Sweets'] \n",
      "\n",
      "Saxby: [\"The Saxby's Hall of Greats\", 'Energy', 'Cold Brew Collection', 'Hot Coffee', 'Espresso Drinks', 'Teas & Steamers', 'Meet Your Matcha', 'Smoothies', 'Breakfast All Day', 'Grilled Cheese', 'Bakery', 'Grab & Go Food', 'Grab & Go Drinks', 'Coffee For Home'] \n",
      "\n"
     ]
    }
   ],
   "source": [
    "# check the different dish categories (combine both coffee shops's dish categories into one)\n",
    "starbucks_categories_ls = []\n",
    "saxbys_categories_ls = []\n",
    "\n",
    "starbucks_dc.pop('shop_name', None)\n",
    "saxbys_dc.pop('shop_name', None)\n",
    "\n",
    "starbucks_unique_ls = []\n",
    "saxby_unique_ls = []\n",
    "\n",
    "for key in starbucks_dc['dish_category']:\n",
    "    if starbucks_dc['dish_category'][key] not in starbucks_unique_ls:\n",
    "        starbucks_unique_ls.append(starbucks_dc['dish_category'][key])\n",
    "\n",
    "for key in saxbys_dc['dish_category']:\n",
    "    if saxbys_dc['dish_category'][key] not in saxby_unique_ls:\n",
    "        saxby_unique_ls.append(saxbys_dc['dish_category'][key])\n",
    "\n",
    "# print the current dish categories for both places\n",
    "print(f'Starbucks: {starbucks_unique_ls} \\n')\n",
    "print(f'Saxby: {saxby_unique_ls} \\n')"
   ]
  },
  {
   "cell_type": "markdown",
   "id": "7b82a3d8-50d0-4a66-8d9b-bcbfff075d85",
   "metadata": {},
   "source": [
    "#### Print out all duplicate dishes in Saxby's"
   ]
  },
  {
   "cell_type": "code",
   "execution_count": 11,
   "id": "72ec8c24-b307-4c71-b9c2-6c50d870f223",
   "metadata": {},
   "outputs": [
    {
     "name": "stdout",
     "output_type": "stream",
     "text": [
      "Vanilla Bean Cold Brew: [\"The Saxby's Hall of Greats\", 'Cold Brew Collection']\n",
      "\n",
      "Strawberry Rush Energy Drink: [\"The Saxby's Hall of Greats\", 'Energy', 'Teas & Steamers']\n",
      "\n",
      "Buffalo Chicken Grilled Cheese: [\"The Saxby's Hall of Greats\", 'Grilled Cheese']\n",
      "\n",
      "Breakfast Burrito: [\"The Saxby's Hall of Greats\", 'Breakfast All Day']\n",
      "\n",
      "French Toast Muffin: [\"The Saxby's Hall of Greats\", 'Bakery']\n",
      "\n",
      "Peach Rush Energy Drink: ['Energy', 'Teas & Steamers']\n",
      "\n",
      "OG Rush Energy Drink: ['Energy', 'Teas & Steamers']\n",
      "\n",
      "Matcha Latte: ['Teas & Steamers', 'Meet Your Matcha']\n",
      "\n",
      "Iced Matcha Latte: ['Teas & Steamers', 'Meet Your Matcha']\n",
      "\n",
      "Breakfast Grilled Three Cheese: ['Breakfast All Day', 'Grilled Cheese']\n",
      "\n",
      "Energy (3, 7)\n",
      "Matcha (2, 7)\n",
      "Breakfast (6, 7)\n",
      "Grilled Cheese (7, 7)\n",
      "The Saxby's Hall of Greats (5, 7)\n"
     ]
    }
   ],
   "source": [
    "# checking to see whether saxby's dish categories have some repeat dishes, isolate them to see what dishes they are.\n",
    "\n",
    "dish_category_series_saxbys = data_df.loc[dish_category_DataFrame['shop_name'] == 'Saxby', : ]\n",
    "dish_category_series_saxbys_clean = dish_category_series_saxbys.loc[ :, ['dish_category', 'dish_name']]\n",
    "dict = dish_category_series_saxbys_clean.to_dict()\n",
    "\n",
    "repeats_in_saxby_items = []\n",
    "for key in dict['dish_name']:\n",
    "    if dict['dish_name'][key] not in repeats_in_saxby_items:\n",
    "        repeats_in_saxby_items.append({\n",
    "            'dish_category': dict['dish_category'][key],\n",
    "            'dish_name': dict['dish_name'][key],\n",
    "        })\n",
    "\n",
    "cleaned_repeats_saxby = {}\n",
    "\n",
    "for index in repeats_in_saxby_items:\n",
    "    if index['dish_name'] not in cleaned_repeats_saxby:\n",
    "        cleaned_repeats_saxby[index['dish_name']] = [index['dish_category']]\n",
    "    else:\n",
    "        cleaned_repeats_saxby[index['dish_name']].append(index['dish_category'])\n",
    "\n",
    "final_cleaned_saxby = {}\n",
    "\n",
    "for key in cleaned_repeats_saxby:\n",
    "    if len(cleaned_repeats_saxby[key]) != 1:\n",
    "        final_cleaned_saxby[key] = cleaned_repeats_saxby[key]\n",
    "\n",
    "for key, value in final_cleaned_saxby.items():\n",
    "    print(f'{key}: {value}')\n",
    "    print()\n",
    "\n",
    "test_df = data_df.loc[data_df['dish_category'] == 'Energy' ,:]\n",
    "shape_energy = test_df.shape\n",
    "print(f'Energy {shape_energy}')\n",
    "\n",
    "test_df = data_df.loc[data_df['dish_category'] == 'Meet Your Matcha' ,:]\n",
    "shape_matcha = test_df.shape\n",
    "print(f'Matcha {shape_matcha}')\n",
    "\n",
    "test_df = data_df.loc[data_df['dish_category'] == 'Breakfast All Day' ,:]\n",
    "shape_bkfast = test_df.shape\n",
    "print(f'Breakfast {shape_bkfast}')\n",
    "\n",
    "test_df = data_df.loc[data_df['dish_category'] == 'Grilled Cheese' ,:]\n",
    "shape_gc = test_df.shape\n",
    "print(f'Grilled Cheese {shape_gc}')\n",
    "\n",
    "test_df = data_df.loc[data_df['dish_category'] == \"The Saxby's Hall of Greats\" ,:]\n",
    "shape_greats = test_df.shape\n",
    "print(f'The Saxby\\'s Hall of Greats {shape_greats}')\n",
    "\n",
    "# Conclusion - 'Energy,' 'The Saxby's Hall of Greats' and 'Meet Your Matcha' are redundant, can remove these categories.\n",
    "# Breakfast Grilled Three Cheese - will remove as it is in both. "
   ]
  },
  {
   "cell_type": "markdown",
   "id": "37c2c4ad-f6a8-48a1-9c76-21524628e6d9",
   "metadata": {},
   "source": [
    "#### Print out all duplicate dishes in Starbucks"
   ]
  },
  {
   "cell_type": "code",
   "execution_count": 12,
   "id": "93a8b931-af71-4bb4-90e1-7424814f3215",
   "metadata": {},
   "outputs": [
    {
     "name": "stdout",
     "output_type": "stream",
     "text": [
      "Avocado Spread: ['Hot Breakfast', 'Bakery', 'Lunch', 'Snacks & Sweets']\n",
      "\n",
      "Hot Breakfast (12, 7)\n",
      "Bakery (25, 7)\n",
      "Lunch (9, 7)\n",
      "Snacks & Sweets (5, 7)\n"
     ]
    }
   ],
   "source": [
    "# checking to see whether starbuck's dish categories have some repeat dishes, isolate them to see what dishes they are.\n",
    "\n",
    "dish_category_series_starbucks = data_df.loc[dish_category_DataFrame['shop_name'] == 'Starbucks', : ]\n",
    "dish_category_series_starbucks_clean = dish_category_series_starbucks.loc[ :, ['dish_category', 'dish_name']]\n",
    "dict = dish_category_series_starbucks_clean.to_dict()\n",
    "\n",
    "repeats_in_starbucks_items = []\n",
    "for key in dict['dish_name']:\n",
    "    if dict['dish_name'][key] not in repeats_in_starbucks_items:\n",
    "        repeats_in_starbucks_items.append({\n",
    "            'dish_category': dict['dish_category'][key],\n",
    "            'dish_name': dict['dish_name'][key],\n",
    "        })\n",
    "\n",
    "cleaned_repeats_starbucks = {}\n",
    "\n",
    "for index in repeats_in_starbucks_items:\n",
    "    if index['dish_name'] not in cleaned_repeats_starbucks:\n",
    "        cleaned_repeats_starbucks[index['dish_name']] = [index['dish_category']]\n",
    "    else:\n",
    "        cleaned_repeats_starbucks[index['dish_name']].append(index['dish_category'])\n",
    "\n",
    "final_cleaned_starbucks = {}\n",
    "\n",
    "for key in cleaned_repeats_starbucks:\n",
    "    if len(cleaned_repeats_starbucks[key]) != 1:\n",
    "        final_cleaned_starbucks[key] = cleaned_repeats_starbucks[key]\n",
    "\n",
    "for key, value in final_cleaned_starbucks.items():\n",
    "    print(f'{key}: {value}')\n",
    "    print()\n",
    "\n",
    "test_df = data_df.loc[data_df['dish_category'] == \"Hot Breakfast\" ,:]\n",
    "shape_energy = test_df.shape\n",
    "print(f'Hot Breakfast {shape_energy}')\n",
    "\n",
    "test_df = data_df.loc[data_df['dish_category'] == 'Bakery' ,:]\n",
    "shape_matcha = test_df.shape\n",
    "print(f'Bakery {shape_matcha}')\n",
    "\n",
    "test_df = data_df.loc[data_df['dish_category'] == 'Lunch' ,:]\n",
    "shape_bkfast = test_df.shape\n",
    "print(f'Lunch {shape_bkfast}')\n",
    "\n",
    "test_df = data_df.loc[data_df['dish_category'] == 'Snacks & Sweets' ,:]\n",
    "shape_gc = test_df.shape\n",
    "print(f'Snacks & Sweets {shape_gc}')\n",
    "\n",
    "# Conclusion - only one repeat item, Avacado Spread\n",
    "# Avacado Spread - will remove as it is in all."
   ]
  },
  {
   "cell_type": "markdown",
   "id": "f107aa73-8f08-4b30-b1cd-c79862eebe9c",
   "metadata": {},
   "source": [
    "#### Remove Saxby's duplicates from DataFrame"
   ]
  },
  {
   "cell_type": "code",
   "execution_count": 13,
   "id": "bc5d34dc-9b62-448f-83a8-332d2c3c7d50",
   "metadata": {},
   "outputs": [],
   "source": [
    "#change DataFrame\n",
    "#take care of Saxby's products\n",
    "data_clean = data_df.loc[\n",
    "    (data_df['dish_category'] != 'Energy') & \n",
    "    (data_df['dish_category'] != 'Meet Your Matcha') &\n",
    "    (data_df['dish_name'] != 'Breakfast Grilled Three Cheese') &\n",
    "    (data_df['dish_category'] != \"The Saxby's Hall of Greats\")]\n",
    "\n",
    "data_df = data_clean"
   ]
  },
  {
   "cell_type": "markdown",
   "id": "e2885d51-98d3-48d5-aeb1-5671f45a1821",
   "metadata": {},
   "source": [
    "#### Remove Starbuck's duplicates from DataFrame"
   ]
  },
  {
   "cell_type": "code",
   "execution_count": 14,
   "id": "5f82f7c6-dc7a-4615-bc95-f9df7ffbb8e6",
   "metadata": {},
   "outputs": [],
   "source": [
    "#take care of Starbuck's products\n",
    "data_clean = data_df.loc[\n",
    "    (data_df['dish_name'] != 'Avocado Spread')]\n",
    "\n",
    "data_df = data_clean"
   ]
  },
  {
   "cell_type": "markdown",
   "id": "50b05f86-308d-4831-91f5-d2dab0c25182",
   "metadata": {},
   "source": [
    "#### Combine both shop's dish categories into one category"
   ]
  },
  {
   "cell_type": "code",
   "execution_count": 15,
   "id": "6a94917a-1e28-4dcb-b5e4-d8953fa25679",
   "metadata": {},
   "outputs": [
    {
     "data": {
      "text/html": [
       "<div>\n",
       "<style scoped>\n",
       "    .dataframe tbody tr th:only-of-type {\n",
       "        vertical-align: middle;\n",
       "    }\n",
       "\n",
       "    .dataframe tbody tr th {\n",
       "        vertical-align: top;\n",
       "    }\n",
       "\n",
       "    .dataframe thead th {\n",
       "        text-align: right;\n",
       "    }\n",
       "</style>\n",
       "<table border=\"1\" class=\"dataframe\">\n",
       "  <thead>\n",
       "    <tr style=\"text-align: right;\">\n",
       "      <th></th>\n",
       "      <th>shop_name</th>\n",
       "      <th>location</th>\n",
       "      <th>dish_name</th>\n",
       "      <th>dish_description</th>\n",
       "      <th>dish_image_link</th>\n",
       "      <th>dish_price</th>\n",
       "      <th>dish_category</th>\n",
       "      <th>dish_category_unified</th>\n",
       "    </tr>\n",
       "  </thead>\n",
       "  <tbody>\n",
       "    <tr>\n",
       "      <th>0</th>\n",
       "      <td>Starbucks</td>\n",
       "      <td>[42.3399145, -71.0887372]</td>\n",
       "      <td>Caffe Americano</td>\n",
       "      <td>Espresso shots topped with hot water create a ...</td>\n",
       "      <td>https://media-cdn.grubhub.com/image/upload/w_1...</td>\n",
       "      <td>3.45</td>\n",
       "      <td>Hot Coffees</td>\n",
       "      <td>Hot Coffees</td>\n",
       "    </tr>\n",
       "    <tr>\n",
       "      <th>1</th>\n",
       "      <td>Starbucks</td>\n",
       "      <td>[42.3399145, -71.0887372]</td>\n",
       "      <td>Caffe Misto</td>\n",
       "      <td>A 1-to-1 combination of fresh-brewed coffee an...</td>\n",
       "      <td>https://media-cdn.grubhub.com/image/upload/w_1...</td>\n",
       "      <td>4.25</td>\n",
       "      <td>Hot Coffees</td>\n",
       "      <td>Hot Coffees</td>\n",
       "    </tr>\n",
       "    <tr>\n",
       "      <th>2</th>\n",
       "      <td>Starbucks</td>\n",
       "      <td>[42.3399145, -71.0887372]</td>\n",
       "      <td>Blonde Roast Coffee</td>\n",
       "      <td>Lightly roasted coffee that's soft, mellow and...</td>\n",
       "      <td>https://media-cdn.grubhub.com/image/upload/w_1...</td>\n",
       "      <td>3.45</td>\n",
       "      <td>Hot Coffees</td>\n",
       "      <td>Hot Coffees</td>\n",
       "    </tr>\n",
       "    <tr>\n",
       "      <th>3</th>\n",
       "      <td>Starbucks</td>\n",
       "      <td>[42.3399145, -71.0887372]</td>\n",
       "      <td>Featured Starbucks Dark Roast Coffee</td>\n",
       "      <td>This full-bodied dark roast coffee with bold, ...</td>\n",
       "      <td>https://media-cdn.grubhub.com/image/upload/w_1...</td>\n",
       "      <td>3.45</td>\n",
       "      <td>Hot Coffees</td>\n",
       "      <td>Hot Coffees</td>\n",
       "    </tr>\n",
       "    <tr>\n",
       "      <th>4</th>\n",
       "      <td>Starbucks</td>\n",
       "      <td>[42.3399145, -71.0887372]</td>\n",
       "      <td>Pike Place Roast Coffee</td>\n",
       "      <td>From our first store in Seattle's Pike Place M...</td>\n",
       "      <td>https://media-cdn.grubhub.com/image/upload/w_1...</td>\n",
       "      <td>3.45</td>\n",
       "      <td>Hot Coffees</td>\n",
       "      <td>Hot Coffees</td>\n",
       "    </tr>\n",
       "  </tbody>\n",
       "</table>\n",
       "</div>"
      ],
      "text/plain": [
       "   shop_name                   location                             dish_name  \\\n",
       "0  Starbucks  [42.3399145, -71.0887372]                       Caffe Americano   \n",
       "1  Starbucks  [42.3399145, -71.0887372]                           Caffe Misto   \n",
       "2  Starbucks  [42.3399145, -71.0887372]                   Blonde Roast Coffee   \n",
       "3  Starbucks  [42.3399145, -71.0887372]  Featured Starbucks Dark Roast Coffee   \n",
       "4  Starbucks  [42.3399145, -71.0887372]               Pike Place Roast Coffee   \n",
       "\n",
       "                                    dish_description  \\\n",
       "0  Espresso shots topped with hot water create a ...   \n",
       "1  A 1-to-1 combination of fresh-brewed coffee an...   \n",
       "2  Lightly roasted coffee that's soft, mellow and...   \n",
       "3  This full-bodied dark roast coffee with bold, ...   \n",
       "4  From our first store in Seattle's Pike Place M...   \n",
       "\n",
       "                                     dish_image_link  dish_price  \\\n",
       "0  https://media-cdn.grubhub.com/image/upload/w_1...        3.45   \n",
       "1  https://media-cdn.grubhub.com/image/upload/w_1...        4.25   \n",
       "2  https://media-cdn.grubhub.com/image/upload/w_1...        3.45   \n",
       "3  https://media-cdn.grubhub.com/image/upload/w_1...        3.45   \n",
       "4  https://media-cdn.grubhub.com/image/upload/w_1...        3.45   \n",
       "\n",
       "  dish_category dish_category_unified  \n",
       "0   Hot Coffees           Hot Coffees  \n",
       "1   Hot Coffees           Hot Coffees  \n",
       "2   Hot Coffees           Hot Coffees  \n",
       "3   Hot Coffees           Hot Coffees  \n",
       "4   Hot Coffees           Hot Coffees  "
      ]
     },
     "execution_count": 15,
     "metadata": {},
     "output_type": "execute_result"
    }
   ],
   "source": [
    "#combine both coffee shop's categories into one\n",
    "\n",
    "Starbucks = ['Hot Coffees', 'Hot Teas', 'Hot Drinks', 'Frappuccino Blended Beverages', \n",
    "           'Cold Coffees', 'Cold Drinks', 'Iced Teas', 'Hot Breakfast', 'Oatmeal & Yogurt', 'Bakery', 'Lunch', 'Snacks & Sweets'] \n",
    "\n",
    "Saxby =  ['Cold Brew Collection', 'Hot Coffee', 'Espresso Drinks', 'Teas & Steamers', \n",
    "       'Smoothies', 'Breakfast All Day', 'Grilled Cheese', 'Bakery', \n",
    "       'Grab & Go Food', 'Grab & Go Drinks', 'Coffee For Home'] \n",
    "\n",
    "mapping_dict = {\n",
    "    'Hot Coffees': 'Hot Coffees',\n",
    "    'Hot Coffee': 'Hot Coffees',\n",
    "    'Espresso Drinks': 'Hot Coffees',\n",
    "    'Cold Coffees': 'Cold Coffees',\n",
    "    'Cold Brew Collection': 'Cold Coffees',\n",
    "    'Hot Drinks': 'Hot Drinks',\n",
    "    'Cold Drinks': 'Cold Drinks',\n",
    "    'Grab & Go Drinks': 'Cold Drinks', \n",
    "    'Teas & Steamers': 'Teas & Herbal Beverages',\n",
    "    'Hot Teas': 'Teas & Herbal Beverages',\n",
    "    'Iced Teas': 'Teas & Herbal Beverages',\n",
    "    'Frappuccino Blended Beverages': 'Frappuccino & Blended Beverages',\n",
    "    'Smoothies': 'Smoothies',\n",
    "    'Breakfast All Day': 'Breakfast Items',\n",
    "    'Hot Breakfast': 'Breakfast Items',\n",
    "    'Bakery': 'Bakery Items',\n",
    "    'Snacks & Sweets': 'Snacks & Sweets',\n",
    "    'Oatmeal & Yogurt': 'Snacks & Sweets',\n",
    "    'Lunch': 'Lunch Items',\n",
    "    'Grab & Go Food': 'Lunch Items',\n",
    "    'Grilled Cheese': 'Lunch Items',\n",
    "    'Coffee For Home': 'Coffee For Home'\n",
    "}\n",
    "\n",
    "data_df['dish_category_unified'] = data_df['dish_category'].replace(mapping_dict)\n",
    "\n",
    "data_df.head()\n",
    "\n"
   ]
  },
  {
   "cell_type": "markdown",
   "id": "b70dc875-e040-4605-b35a-f70567f12967",
   "metadata": {},
   "source": [
    "#### Checking for null values in DataFrame "
   ]
  },
  {
   "cell_type": "code",
   "execution_count": 16,
   "id": "f7fa4a14-b0fe-4b15-9b9c-fe9e244d148e",
   "metadata": {},
   "outputs": [
    {
     "name": "stdout",
     "output_type": "stream",
     "text": [
      "shop_name                0\n",
      "location                 0\n",
      "dish_name                0\n",
      "dish_description         0\n",
      "dish_image_link          0\n",
      "dish_price               0\n",
      "dish_category            0\n",
      "dish_category_unified    0\n",
      "dtype: int64\n"
     ]
    }
   ],
   "source": [
    "# check for null values in the dataframe\n",
    "# note - there were null prices, but were removed from json file inadvently (was fixing format of prices).\n",
    "print(data_df.isnull().sum())"
   ]
  },
  {
   "cell_type": "code",
   "execution_count": 17,
   "id": "c34c206d-af21-41c3-8fde-75bc9209fd33",
   "metadata": {},
   "outputs": [],
   "source": [
    "# consequence of the messup :(\n",
    "df_clean = data_df"
   ]
  },
  {
   "cell_type": "markdown",
   "id": "33c345af-22d4-4cb4-a01a-0616dd876fc0",
   "metadata": {},
   "source": [
    "## Part 3: Exploratory Data Analysis & Cleaning for K-Means Cluster"
   ]
  },
  {
   "cell_type": "markdown",
   "id": "ce9679cd-5b6e-4476-85fd-2a9d51fec91e",
   "metadata": {},
   "source": [
    "#### Create a Swarmplot to check the distribution"
   ]
  },
  {
   "cell_type": "code",
   "execution_count": 18,
   "id": "9295a91b-00cf-4ecc-af47-1cdcee807959",
   "metadata": {},
   "outputs": [
    {
     "data": {
      "image/png": "[encoded data removed]",
      "text/plain": [
       "<Figure size 640x480 with 1 Axes>"
      ]
     },
     "metadata": {},
     "output_type": "display_data"
    }
   ],
   "source": [
    "# prices per category (plot)\n",
    "# use a swarmplot to see the price comparision per category without overlap. \n",
    "sns.swarmplot(data=data_df, x='shop_name', y='dish_price', hue='dish_category_unified', size = 4.5)\n",
    "plt.title(\"Price Comparison by Store and Category\")\n",
    "plt.legend(bbox_to_anchor=(1.05, 1), loc='upper left', ncol=2)\n",
    "plt.show()"
   ]
  },
  {
   "cell_type": "markdown",
   "id": "098e2941-8092-4ff3-a6b2-f8ea1be6d350",
   "metadata": {},
   "source": [
    "Referring to the **< above graph >**\n",
    "#### Many of Starbucks items are centered around 4 to 6 dollars, while Saxby's is spread around the graph.\n",
    "#### The outliers in Saxby's graph will be removed."
   ]
  },
  {
   "cell_type": "markdown",
   "id": "7e19538f-6d07-4b97-ba4b-7fa0560cabc3",
   "metadata": {},
   "source": [
    "Referring to the **< below block >**\n",
    "#### Remove outliers from Saxby's "
   ]
  },
  {
   "cell_type": "code",
   "execution_count": 19,
   "id": "4d117ffb-d7da-41cf-87b7-2538522e553f",
   "metadata": {},
   "outputs": [],
   "source": [
    "df_price = df_clean.loc[df_clean['dish_price'] < 10]\n",
    "df_clean = df_price"
   ]
  },
  {
   "cell_type": "markdown",
   "id": "29ddfbb3-5cb4-4ef7-bf95-201601fd593c",
   "metadata": {},
   "source": [
    "#### Add numerical representation to dish categories by LabelCoding them"
   ]
  },
  {
   "cell_type": "code",
   "execution_count": 20,
   "id": "5eee1461-42b7-4678-812b-ae74b68b8e58",
   "metadata": {},
   "outputs": [
    {
     "name": "stderr",
     "output_type": "stream",
     "text": [
      "/var/folders/mk/xn54yytj4_7gvhlx2n3v13gh0000gn/T/ipykernel_90108/3347007164.py:4: SettingWithCopyWarning: \n",
      "A value is trying to be set on a copy of a slice from a DataFrame.\n",
      "Try using .loc[row_indexer,col_indexer] = value instead\n",
      "\n",
      "See the caveats in the documentation: https://pandas.pydata.org/pandas-docs/stable/user_guide/indexing.html#returning-a-view-versus-a-copy\n",
      "  df_clean.loc[:, 'dish_category_unified_encoded'] = le.fit_transform(df_clean['dish_category_unified'])\n"
     ]
    }
   ],
   "source": [
    "# Convert dish_category_unified to numerical values using LabelEncoder\n",
    "# For K mean clustering, need numerical representation of catagorical data, hence adding this. \n",
    "le = LabelEncoder()\n",
    "df_clean.loc[:, 'dish_category_unified_encoded'] = le.fit_transform(df_clean['dish_category_unified'])"
   ]
  },
  {
   "cell_type": "markdown",
   "id": "086fd3cc-3df0-45f5-8a01-163e20c0c9c5",
   "metadata": {},
   "source": [
    "#### Normalize price values for balancing influence of both coffee shops"
   ]
  },
  {
   "cell_type": "code",
   "execution_count": 21,
   "id": "3fe2bf0a-e172-4d8c-96d4-77df227d0237",
   "metadata": {},
   "outputs": [
    {
     "name": "stderr",
     "output_type": "stream",
     "text": [
      "/var/folders/mk/xn54yytj4_7gvhlx2n3v13gh0000gn/T/ipykernel_90108/191394852.py:3: SettingWithCopyWarning: \n",
      "A value is trying to be set on a copy of a slice from a DataFrame.\n",
      "Try using .loc[row_indexer,col_indexer] = value instead\n",
      "\n",
      "See the caveats in the documentation: https://pandas.pydata.org/pandas-docs/stable/user_guide/indexing.html#returning-a-view-versus-a-copy\n",
      "  df_clean['price_normalized'] = scaler.fit_transform(df_clean[['dish_price']])\n"
     ]
    }
   ],
   "source": [
    "# Normalizing (shrinking the range) of prices to allow for better k mean clustering.\n",
    "scaler = StandardScaler()\n",
    "df_clean['price_normalized'] = scaler.fit_transform(df_clean[['dish_price']])\n",
    "#df_clean['price_normalized'] = \n",
    "# data_df.groupby('shop_name')['dish_price'].transform(lambda x: scaler.fit_transform(x.values.reshape(-1, 1)).flatten())"
   ]
  },
  {
   "cell_type": "markdown",
   "id": "bbae3f9e-d9ef-47b7-8fad-7dab1515a9c0",
   "metadata": {},
   "source": [
    "#### Display first few values of DataFrame for reference"
   ]
  },
  {
   "cell_type": "code",
   "execution_count": 22,
   "id": "f3194340-dc87-426a-b1a1-11545f88bab5",
   "metadata": {},
   "outputs": [
    {
     "data": {
      "text/html": [
       "<div>\n",
       "<style scoped>\n",
       "    .dataframe tbody tr th:only-of-type {\n",
       "        vertical-align: middle;\n",
       "    }\n",
       "\n",
       "    .dataframe tbody tr th {\n",
       "        vertical-align: top;\n",
       "    }\n",
       "\n",
       "    .dataframe thead th {\n",
       "        text-align: right;\n",
       "    }\n",
       "</style>\n",
       "<table border=\"1\" class=\"dataframe\">\n",
       "  <thead>\n",
       "    <tr style=\"text-align: right;\">\n",
       "      <th></th>\n",
       "      <th>shop_name</th>\n",
       "      <th>location</th>\n",
       "      <th>dish_name</th>\n",
       "      <th>dish_description</th>\n",
       "      <th>dish_image_link</th>\n",
       "      <th>dish_price</th>\n",
       "      <th>dish_category</th>\n",
       "      <th>dish_category_unified</th>\n",
       "      <th>dish_category_unified_encoded</th>\n",
       "      <th>price_normalized</th>\n",
       "    </tr>\n",
       "  </thead>\n",
       "  <tbody>\n",
       "    <tr>\n",
       "      <th>0</th>\n",
       "      <td>Starbucks</td>\n",
       "      <td>[42.3399145, -71.0887372]</td>\n",
       "      <td>Caffe Americano</td>\n",
       "      <td>Espresso shots topped with hot water create a ...</td>\n",
       "      <td>https://media-cdn.grubhub.com/image/upload/w_1...</td>\n",
       "      <td>3.45</td>\n",
       "      <td>Hot Coffees</td>\n",
       "      <td>Hot Coffees</td>\n",
       "      <td>6</td>\n",
       "      <td>-0.544840</td>\n",
       "    </tr>\n",
       "    <tr>\n",
       "      <th>1</th>\n",
       "      <td>Starbucks</td>\n",
       "      <td>[42.3399145, -71.0887372]</td>\n",
       "      <td>Caffe Misto</td>\n",
       "      <td>A 1-to-1 combination of fresh-brewed coffee an...</td>\n",
       "      <td>https://media-cdn.grubhub.com/image/upload/w_1...</td>\n",
       "      <td>4.25</td>\n",
       "      <td>Hot Coffees</td>\n",
       "      <td>Hot Coffees</td>\n",
       "      <td>6</td>\n",
       "      <td>0.052483</td>\n",
       "    </tr>\n",
       "    <tr>\n",
       "      <th>2</th>\n",
       "      <td>Starbucks</td>\n",
       "      <td>[42.3399145, -71.0887372]</td>\n",
       "      <td>Blonde Roast Coffee</td>\n",
       "      <td>Lightly roasted coffee that's soft, mellow and...</td>\n",
       "      <td>https://media-cdn.grubhub.com/image/upload/w_1...</td>\n",
       "      <td>3.45</td>\n",
       "      <td>Hot Coffees</td>\n",
       "      <td>Hot Coffees</td>\n",
       "      <td>6</td>\n",
       "      <td>-0.544840</td>\n",
       "    </tr>\n",
       "    <tr>\n",
       "      <th>3</th>\n",
       "      <td>Starbucks</td>\n",
       "      <td>[42.3399145, -71.0887372]</td>\n",
       "      <td>Featured Starbucks Dark Roast Coffee</td>\n",
       "      <td>This full-bodied dark roast coffee with bold, ...</td>\n",
       "      <td>https://media-cdn.grubhub.com/image/upload/w_1...</td>\n",
       "      <td>3.45</td>\n",
       "      <td>Hot Coffees</td>\n",
       "      <td>Hot Coffees</td>\n",
       "      <td>6</td>\n",
       "      <td>-0.544840</td>\n",
       "    </tr>\n",
       "    <tr>\n",
       "      <th>4</th>\n",
       "      <td>Starbucks</td>\n",
       "      <td>[42.3399145, -71.0887372]</td>\n",
       "      <td>Pike Place Roast Coffee</td>\n",
       "      <td>From our first store in Seattle's Pike Place M...</td>\n",
       "      <td>https://media-cdn.grubhub.com/image/upload/w_1...</td>\n",
       "      <td>3.45</td>\n",
       "      <td>Hot Coffees</td>\n",
       "      <td>Hot Coffees</td>\n",
       "      <td>6</td>\n",
       "      <td>-0.544840</td>\n",
       "    </tr>\n",
       "  </tbody>\n",
       "</table>\n",
       "</div>"
      ],
      "text/plain": [
       "   shop_name                   location                             dish_name  \\\n",
       "0  Starbucks  [42.3399145, -71.0887372]                       Caffe Americano   \n",
       "1  Starbucks  [42.3399145, -71.0887372]                           Caffe Misto   \n",
       "2  Starbucks  [42.3399145, -71.0887372]                   Blonde Roast Coffee   \n",
       "3  Starbucks  [42.3399145, -71.0887372]  Featured Starbucks Dark Roast Coffee   \n",
       "4  Starbucks  [42.3399145, -71.0887372]               Pike Place Roast Coffee   \n",
       "\n",
       "                                    dish_description  \\\n",
       "0  Espresso shots topped with hot water create a ...   \n",
       "1  A 1-to-1 combination of fresh-brewed coffee an...   \n",
       "2  Lightly roasted coffee that's soft, mellow and...   \n",
       "3  This full-bodied dark roast coffee with bold, ...   \n",
       "4  From our first store in Seattle's Pike Place M...   \n",
       "\n",
       "                                     dish_image_link  dish_price  \\\n",
       "0  https://media-cdn.grubhub.com/image/upload/w_1...        3.45   \n",
       "1  https://media-cdn.grubhub.com/image/upload/w_1...        4.25   \n",
       "2  https://media-cdn.grubhub.com/image/upload/w_1...        3.45   \n",
       "3  https://media-cdn.grubhub.com/image/upload/w_1...        3.45   \n",
       "4  https://media-cdn.grubhub.com/image/upload/w_1...        3.45   \n",
       "\n",
       "  dish_category dish_category_unified  dish_category_unified_encoded  \\\n",
       "0   Hot Coffees           Hot Coffees                              6   \n",
       "1   Hot Coffees           Hot Coffees                              6   \n",
       "2   Hot Coffees           Hot Coffees                              6   \n",
       "3   Hot Coffees           Hot Coffees                              6   \n",
       "4   Hot Coffees           Hot Coffees                              6   \n",
       "\n",
       "   price_normalized  \n",
       "0         -0.544840  \n",
       "1          0.052483  \n",
       "2         -0.544840  \n",
       "3         -0.544840  \n",
       "4         -0.544840  "
      ]
     },
     "execution_count": 22,
     "metadata": {},
     "output_type": "execute_result"
    }
   ],
   "source": [
    "df_clean.head()"
   ]
  },
  {
   "cell_type": "markdown",
   "id": "8a9ef1b2-f187-4152-8661-d5e3d8806ba8",
   "metadata": {},
   "source": [
    "## Part 4: K-Means Cluster"
   ]
  },
  {
   "cell_type": "markdown",
   "id": "8ceb3bbc-1d67-46ca-8d0d-2d6df71dba7e",
   "metadata": {},
   "source": [
    "#### Find the optimal amount of kernels for this scenario (using elbow method)"
   ]
  },
  {
   "cell_type": "code",
   "execution_count": 23,
   "id": "e2cf2d42-171f-4058-88ef-f0ab45e817bc",
   "metadata": {},
   "outputs": [
    {
     "data": {
      "image/png": "[encoded data removed]",
      "text/plain": [
       "<Figure size 640x480 with 1 Axes>"
      ]
     },
     "metadata": {},
     "output_type": "display_data"
    }
   ],
   "source": [
    "# apply k-means clustering (use dish_price to create clusters)\n",
    "# create a list to store all intertia\n",
    "# an inertia is the sum of squared distances from each point to its clustoid (the nearest cluster)\n",
    "inertia = []\n",
    "# check for best fit between 1 and 8 clusters.\n",
    "for k in range(1, 8):\n",
    "    # creates the KMeans object for k clusters.\n",
    "    kmeans = KMeans(n_clusters=k, random_state=42)\n",
    "    # fit the KMeans object to the priced_normalized column.\n",
    "    kmeans.fit(df_clean[['price_normalized']])\n",
    "    # add resulting inertia to the list.\n",
    "    inertia.append(kmeans.inertia_)\n",
    "\n",
    "# Plot Elbow Curve\n",
    "plt.plot(range(1, 8), inertia)\n",
    "plt.xlabel('Number of Clusters (K)')\n",
    "plt.ylabel('Inertia')\n",
    "plt.title('Elbow Method for Optimal K')\n",
    "plt.show()"
   ]
  },
  {
   "cell_type": "markdown",
   "id": "87fd5fac-5a27-4380-a5e4-f624194df1f4",
   "metadata": {},
   "source": [
    "#### Use 4 kernels as the amount of kernels for K-Means Cluster\n",
    "#### Create the model, fit the model to 'price_normalized' column, predict kernels from this and add it to 'cluster' column"
   ]
  },
  {
   "cell_type": "code",
   "execution_count": 24,
   "id": "662f3441-54bf-4ae2-98fb-02c462efd241",
   "metadata": {},
   "outputs": [
    {
     "name": "stderr",
     "output_type": "stream",
     "text": [
      "/var/folders/mk/xn54yytj4_7gvhlx2n3v13gh0000gn/T/ipykernel_90108/2519185716.py:5: SettingWithCopyWarning: \n",
      "A value is trying to be set on a copy of a slice from a DataFrame.\n",
      "Try using .loc[row_indexer,col_indexer] = value instead\n",
      "\n",
      "See the caveats in the documentation: https://pandas.pydata.org/pandas-docs/stable/user_guide/indexing.html#returning-a-view-versus-a-copy\n",
      "  df_clean['cluster'] = kmeans.fit_predict(df_clean[['price_normalized']])\n"
     ]
    }
   ],
   "source": [
    "# above graph shows the greatest change ('elblow') at 3, so we will use 3 clusters\n",
    "optimal_k = 3\n",
    "# run the KMeans algorithm for 3 clusters\n",
    "kmeans = KMeans(n_clusters=optimal_k, random_state=42)\n",
    "df_clean['cluster'] = kmeans.fit_predict(df_clean[['price_normalized']])"
   ]
  },
  {
   "cell_type": "markdown",
   "id": "1a33c75b-69da-49b4-85cd-fc46d886780b",
   "metadata": {},
   "source": [
    "#### Display first few values of current DataFrame"
   ]
  },
  {
   "cell_type": "code",
   "execution_count": 25,
   "id": "1124467b-c50a-4ed8-a137-b2e4759b9db4",
   "metadata": {},
   "outputs": [
    {
     "data": {
      "text/html": [
       "<div>\n",
       "<style scoped>\n",
       "    .dataframe tbody tr th:only-of-type {\n",
       "        vertical-align: middle;\n",
       "    }\n",
       "\n",
       "    .dataframe tbody tr th {\n",
       "        vertical-align: top;\n",
       "    }\n",
       "\n",
       "    .dataframe thead th {\n",
       "        text-align: right;\n",
       "    }\n",
       "</style>\n",
       "<table border=\"1\" class=\"dataframe\">\n",
       "  <thead>\n",
       "    <tr style=\"text-align: right;\">\n",
       "      <th></th>\n",
       "      <th>shop_name</th>\n",
       "      <th>location</th>\n",
       "      <th>dish_name</th>\n",
       "      <th>dish_description</th>\n",
       "      <th>dish_image_link</th>\n",
       "      <th>dish_price</th>\n",
       "      <th>dish_category</th>\n",
       "      <th>dish_category_unified</th>\n",
       "      <th>dish_category_unified_encoded</th>\n",
       "      <th>price_normalized</th>\n",
       "      <th>cluster</th>\n",
       "    </tr>\n",
       "  </thead>\n",
       "  <tbody>\n",
       "    <tr>\n",
       "      <th>0</th>\n",
       "      <td>Starbucks</td>\n",
       "      <td>[42.3399145, -71.0887372]</td>\n",
       "      <td>Caffe Americano</td>\n",
       "      <td>Espresso shots topped with hot water create a ...</td>\n",
       "      <td>https://media-cdn.grubhub.com/image/upload/w_1...</td>\n",
       "      <td>3.45</td>\n",
       "      <td>Hot Coffees</td>\n",
       "      <td>Hot Coffees</td>\n",
       "      <td>6</td>\n",
       "      <td>-0.544840</td>\n",
       "      <td>2</td>\n",
       "    </tr>\n",
       "    <tr>\n",
       "      <th>1</th>\n",
       "      <td>Starbucks</td>\n",
       "      <td>[42.3399145, -71.0887372]</td>\n",
       "      <td>Caffe Misto</td>\n",
       "      <td>A 1-to-1 combination of fresh-brewed coffee an...</td>\n",
       "      <td>https://media-cdn.grubhub.com/image/upload/w_1...</td>\n",
       "      <td>4.25</td>\n",
       "      <td>Hot Coffees</td>\n",
       "      <td>Hot Coffees</td>\n",
       "      <td>6</td>\n",
       "      <td>0.052483</td>\n",
       "      <td>2</td>\n",
       "    </tr>\n",
       "    <tr>\n",
       "      <th>2</th>\n",
       "      <td>Starbucks</td>\n",
       "      <td>[42.3399145, -71.0887372]</td>\n",
       "      <td>Blonde Roast Coffee</td>\n",
       "      <td>Lightly roasted coffee that's soft, mellow and...</td>\n",
       "      <td>https://media-cdn.grubhub.com/image/upload/w_1...</td>\n",
       "      <td>3.45</td>\n",
       "      <td>Hot Coffees</td>\n",
       "      <td>Hot Coffees</td>\n",
       "      <td>6</td>\n",
       "      <td>-0.544840</td>\n",
       "      <td>2</td>\n",
       "    </tr>\n",
       "    <tr>\n",
       "      <th>3</th>\n",
       "      <td>Starbucks</td>\n",
       "      <td>[42.3399145, -71.0887372]</td>\n",
       "      <td>Featured Starbucks Dark Roast Coffee</td>\n",
       "      <td>This full-bodied dark roast coffee with bold, ...</td>\n",
       "      <td>https://media-cdn.grubhub.com/image/upload/w_1...</td>\n",
       "      <td>3.45</td>\n",
       "      <td>Hot Coffees</td>\n",
       "      <td>Hot Coffees</td>\n",
       "      <td>6</td>\n",
       "      <td>-0.544840</td>\n",
       "      <td>2</td>\n",
       "    </tr>\n",
       "    <tr>\n",
       "      <th>4</th>\n",
       "      <td>Starbucks</td>\n",
       "      <td>[42.3399145, -71.0887372]</td>\n",
       "      <td>Pike Place Roast Coffee</td>\n",
       "      <td>From our first store in Seattle's Pike Place M...</td>\n",
       "      <td>https://media-cdn.grubhub.com/image/upload/w_1...</td>\n",
       "      <td>3.45</td>\n",
       "      <td>Hot Coffees</td>\n",
       "      <td>Hot Coffees</td>\n",
       "      <td>6</td>\n",
       "      <td>-0.544840</td>\n",
       "      <td>2</td>\n",
       "    </tr>\n",
       "  </tbody>\n",
       "</table>\n",
       "</div>"
      ],
      "text/plain": [
       "   shop_name                   location                             dish_name  \\\n",
       "0  Starbucks  [42.3399145, -71.0887372]                       Caffe Americano   \n",
       "1  Starbucks  [42.3399145, -71.0887372]                           Caffe Misto   \n",
       "2  Starbucks  [42.3399145, -71.0887372]                   Blonde Roast Coffee   \n",
       "3  Starbucks  [42.3399145, -71.0887372]  Featured Starbucks Dark Roast Coffee   \n",
       "4  Starbucks  [42.3399145, -71.0887372]               Pike Place Roast Coffee   \n",
       "\n",
       "                                    dish_description  \\\n",
       "0  Espresso shots topped with hot water create a ...   \n",
       "1  A 1-to-1 combination of fresh-brewed coffee an...   \n",
       "2  Lightly roasted coffee that's soft, mellow and...   \n",
       "3  This full-bodied dark roast coffee with bold, ...   \n",
       "4  From our first store in Seattle's Pike Place M...   \n",
       "\n",
       "                                     dish_image_link  dish_price  \\\n",
       "0  https://media-cdn.grubhub.com/image/upload/w_1...        3.45   \n",
       "1  https://media-cdn.grubhub.com/image/upload/w_1...        4.25   \n",
       "2  https://media-cdn.grubhub.com/image/upload/w_1...        3.45   \n",
       "3  https://media-cdn.grubhub.com/image/upload/w_1...        3.45   \n",
       "4  https://media-cdn.grubhub.com/image/upload/w_1...        3.45   \n",
       "\n",
       "  dish_category dish_category_unified  dish_category_unified_encoded  \\\n",
       "0   Hot Coffees           Hot Coffees                              6   \n",
       "1   Hot Coffees           Hot Coffees                              6   \n",
       "2   Hot Coffees           Hot Coffees                              6   \n",
       "3   Hot Coffees           Hot Coffees                              6   \n",
       "4   Hot Coffees           Hot Coffees                              6   \n",
       "\n",
       "   price_normalized  cluster  \n",
       "0         -0.544840        2  \n",
       "1          0.052483        2  \n",
       "2         -0.544840        2  \n",
       "3         -0.544840        2  \n",
       "4         -0.544840        2  "
      ]
     },
     "execution_count": 25,
     "metadata": {},
     "output_type": "execute_result"
    }
   ],
   "source": [
    "df_clean.head()"
   ]
  },
  {
   "cell_type": "markdown",
   "id": "35496293-41bb-43d1-a1d7-32cd492011da",
   "metadata": {},
   "source": [
    "#### Textual representation of the K-Means Cluster results"
   ]
  },
  {
   "cell_type": "code",
   "execution_count": 29,
   "id": "79566121-7055-485c-8eda-bb81d6a0bb51",
   "metadata": {},
   "outputs": [
    {
     "name": "stdout",
     "output_type": "stream",
     "text": [
      "cluster  shop_name\n",
      "0        Saxby        30\n",
      "         Starbucks    79\n",
      "1        Saxby        27\n",
      "         Starbucks    33\n",
      "2        Saxby        22\n",
      "         Starbucks    50\n",
      "dtype: int64\n",
      "                   dish_price  dish_category_unified_encoded  price_normalized\n",
      "cluster shop_name                                                             \n",
      "0       Saxby        5.712000                       6.466667          1.144090\n",
      "        Starbucks    5.237342                       4.962025          0.789685\n",
      "1       Saxby        2.200000                       6.629630         -1.478157\n",
      "        Starbucks    2.681818                       5.000000         -1.118406\n",
      "2       Saxby        3.795455                       6.318182         -0.286905\n",
      "        Starbucks    3.816000                       5.300000         -0.271565\n"
     ]
    }
   ],
   "source": [
    "numeric_columns = ['dish_price', 'dish_category_unified_encoded', 'price_normalized']\n",
    "cluster_summary = df_clean.groupby(['cluster', 'shop_name'])[numeric_columns].size()\n",
    "print(cluster_summary)\n",
    "cluster_summary = df_clean.groupby(['cluster', 'shop_name'])[numeric_columns].mean()\n",
    "print(cluster_summary)"
   ]
  },
  {
   "cell_type": "markdown",
   "id": "4a05e534-33e3-4d77-88c1-bebc29453cc1",
   "metadata": {},
   "source": [
    "#### Graphical representation of the K-Means Cluster results"
   ]
  },
  {
   "cell_type": "code",
   "execution_count": 27,
   "id": "3fbed0d8-32e9-4777-9709-b396bcb53b95",
   "metadata": {},
   "outputs": [
    {
     "data": {
      "image/png": "[encoded data removed]",
      "text/plain": [
       "<Figure size 1000x600 with 1 Axes>"
      ]
     },
     "metadata": {},
     "output_type": "display_data"
    }
   ],
   "source": [
    "import seaborn as sns\n",
    "\n",
    "# Scatter plot showing clusters by price\n",
    "plt.figure(figsize=(10, 6))\n",
    "sns.scatterplot(data=df_clean, x='dish_price', y='dish_category_unified_encoded', hue='cluster', style='shop_name')\n",
    "plt.title('K-Means Clustering of Dishes by Price and Category')\n",
    "plt.show()"
   ]
  },
  {
   "cell_type": "markdown",
   "id": "2fa648b2-65f2-4fc7-82b9-ddaf15a449ed",
   "metadata": {},
   "source": [
    "## Part 5: Takeaways\n",
    "\n",
    "* Cluster 0 has a relatively higher normalized price (around 1 STDs) for both coffee shops. This helps me conclude that all the dishes in this cluster are aimed towards a more wealthy clientele.\n",
    "* Saxby's has a higher dish price for Cluster 0, while Starbucks has twice the amount of dishes targeting wealthy clientele. I believe that both these coffee shops equally cater to wealthy clientele, but Saxby's mean price in this category is higher due to their lower amount of offerings.\n",
    "* Cluster 1 has a relatively lower normalized price (Starbucks: -0.75 STD, Saxby: -1.5 STD) for both coffee shops. The lower STD for Saxby's suggests that their offerings  are more focused to the richer clientele compared to Starbucks. Starbucks also doesn't focus much in this field, as they only have 33 offerings in this cluster, lower than the 79 and 50 in the other clusters.\n",
    "* Cluster 2 is in the middle of Cluster 0 and 1, with having a STD between -0.25 and -0.3. This category is pretty consistent in regards to both coffee shops, so I don't have many observations to take note of. "
   ]
  }
 ],
 "metadata": {
  "kernelspec": {
   "display_name": "Python 3 (ipykernel)",
   "language": "python",
   "name": "python3"
  },
  "language_info": {
   "codemirror_mode": {
    "name": "ipython",
    "version": 3
   },
   "file_extension": ".py",
   "mimetype": "text/x-python",
   "name": "python",
   "nbconvert_exporter": "python",
   "pygments_lexer": "ipython3",
   "version": "3.12.2"
  }
 },
 "nbformat": 4,
 "nbformat_minor": 5
}
