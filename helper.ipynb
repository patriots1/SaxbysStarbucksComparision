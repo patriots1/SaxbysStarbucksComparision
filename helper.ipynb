{
 "cells": [
  {
   "cell_type": "code",
   "execution_count": 1,
   "id": "9c25b4b5-f050-44ea-8953-84adbfb8c85d",
   "metadata": {},
   "outputs": [],
   "source": [
    "import json"
   ]
  },
  {
   "cell_type": "code",
   "execution_count": 2,
   "id": "6e89510f-1674-4ce9-909f-d4154494a80a",
   "metadata": {},
   "outputs": [],
   "source": [
    "file = open('clean_neu_restaurants_price.json')\n",
    "file_dc = json.load(file)"
   ]
  },
  {
   "cell_type": "code",
   "execution_count": 9,
   "id": "d76a2412-b7bb-4745-a149-6f8ccd14d8ca",
   "metadata": {},
   "outputs": [],
   "source": [
    "saxby_dc = file_dc['Restaurants'][0]"
   ]
  },
  {
   "cell_type": "code",
   "execution_count": 10,
   "id": "fcec4f1f-1859-4016-8fba-ec32d794ae2e",
   "metadata": {},
   "outputs": [],
   "source": [
    "starbucks_dc = file_dc['Restaurants'][3]"
   ]
  },
  {
   "cell_type": "code",
   "execution_count": 11,
   "id": "e727b102-3818-4cbe-8128-dde91676f4f3",
   "metadata": {},
   "outputs": [],
   "source": [
    "output_dc = {}\n",
    "output_dc['Saxby'] = saxby_dc\n",
    "output_dc['Starbucks'] = starbucks_dc"
   ]
  },
  {
   "cell_type": "code",
   "execution_count": 12,
   "id": "a1eb366a-7f38-4ad1-90f8-a3b608b6b0c3",
   "metadata": {},
   "outputs": [],
   "source": [
    "with open('input_data_price.json', 'w') as outputfl:\n",
    "    json.dump(output_dc, outputfl)"
   ]
  }
 ],
 "metadata": {
  "kernelspec": {
   "display_name": "Python 3 (ipykernel)",
   "language": "python",
   "name": "python3"
  },
  "language_info": {
   "codemirror_mode": {
    "name": "ipython",
    "version": 3
   },
   "file_extension": ".py",
   "mimetype": "text/x-python",
   "name": "python",
   "nbconvert_exporter": "python",
   "pygments_lexer": "ipython3",
   "version": "3.12.2"
  }
 },
 "nbformat": 4,
 "nbformat_minor": 5
}
